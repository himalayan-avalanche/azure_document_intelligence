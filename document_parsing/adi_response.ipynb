{
 "cells": [
  {
   "cell_type": "code",
   "execution_count": 96,
   "id": "107ec12d-bb0b-4979-80d9-c335e2c11e33",
   "metadata": {},
   "outputs": [],
   "source": [
    "import os\n",
    "import time\n",
    "import numpy as np\n",
    "import openai\n",
    "from openai import AzureOpenAI\n",
    "from importlib import reload\n",
    "import sys\n",
    "import pprint\n",
    "\n",
    "from azure.core.credentials import AzureKeyCredential\n",
    "from azure.ai.formrecognizer import DocumentAnalysisClient\n",
    "from azure.ai.documentintelligence import DocumentIntelligenceClient\n",
    "\n",
    "file_name=\"./uploads/Sample_Invoice.pdf\""
   ]
  },
  {
   "cell_type": "markdown",
   "id": "38117d41-b36d-4d52-8a90-bf3420eaaff6",
   "metadata": {},
   "source": [
    "### Get the ADI document parsed using Azure document analyzer.\n",
    "Also return the propmpt parameters, message to pass for open ai chat completion"
   ]
  },
  {
   "cell_type": "code",
   "execution_count": 74,
   "id": "f7b48660-9928-4be8-a28d-d492a375f01b",
   "metadata": {},
   "outputs": [],
   "source": [
    "def get_azure_parsed_contents(file_data):\n",
    "\n",
    "    adi_end_point=os.getenv(\"AZURE_ENDPOINT\")\n",
    "    adi_api_key=os.getenv(\"AZURE_KEY\")\n",
    "\n",
    "    document_analysis_client=DocumentIntelligenceClient(\n",
    "            endpoint=adi_end_point, \n",
    "            credential=AzureKeyCredential(adi_api_key)\n",
    "            )\n",
    "    \n",
    "    poller=document_analysis_client.begin_analyze_document(\"prebuilt-invoice\",\n",
    "                analyze_request=file_data,\n",
    "                content_type=\"application/octet-stream\"\n",
    "                )\n",
    "    \n",
    "    result = poller.result()\n",
    "\n",
    "    return result"
   ]
  },
  {
   "cell_type": "code",
   "execution_count": 75,
   "id": "54588f1e-24d2-453c-8127-16fe94cd06a0",
   "metadata": {},
   "outputs": [
    {
     "name": "stdout",
     "output_type": "stream",
     "text": [
      "Time elapsed: 13.53 seconds.\n"
     ]
    }
   ],
   "source": [
    "st_time=time.time()\n",
    "file_data = open(file_name, \"rb\")\n",
    "adi_response=get_azure_parsed_contents(file_data)\n",
    "en_time=time.time()\n",
    "print(f\"Time elapsed: {np.round(en_time-st_time,2)} seconds.\")"
   ]
  },
  {
   "cell_type": "code",
   "execution_count": 76,
   "id": "89825f94-fe4f-4f8c-9e94-dbba4b5b67ba",
   "metadata": {},
   "outputs": [
    {
     "name": "stdout",
     "output_type": "stream",
     "text": [
      "<class 'azure.ai.documentintelligence.models._models.AnalyzeResult'>\n"
     ]
    }
   ],
   "source": [
    "print(type(adi_response))"
   ]
  },
  {
   "cell_type": "code",
   "execution_count": 77,
   "id": "c626ec65-bf4d-45b3-94b2-d783419f98da",
   "metadata": {},
   "outputs": [
    {
     "name": "stdout",
     "output_type": "stream",
     "text": [
      "dict_keys(['apiVersion', 'modelId', 'stringIndexType', 'content', 'pages', 'tables', 'styles', 'documents', 'contentFormat'])\n"
     ]
    }
   ],
   "source": [
    "print(adi_response.keys())"
   ]
  },
  {
   "cell_type": "code",
   "execution_count": 109,
   "id": "428735a8-effc-4172-b312-956736fde593",
   "metadata": {},
   "outputs": [],
   "source": [
    "# print(adi_response['modelId'])\n",
    "\n",
    "# adi_response['content']\n",
    "\n",
    "# adi_response['apiVersion']\n",
    "\n",
    "# doc=adi_response['documents'][0]\n",
    "\n",
    "# doc.keys()\n",
    "\n",
    "# adi_response['pages'][0].keys()\n",
    "\n",
    "# len(adi_response['pages'][0]['words'])\n",
    "\n",
    "# adi_response['pages'][0]['words'][:2]\n",
    "\n",
    "# len(adi_response['pages'][0]['lines'])\n",
    "\n",
    "# adi_response['pages'][0]['lines'][:2]\n",
    "\n",
    "# adi_response['pages'][0]['spans']\n",
    "\n",
    "# adi_response['pages'][0]['width']\n",
    "\n",
    "# adi_response['pages'][0]['height']\n",
    "\n",
    "# adi_response['pages'][0].keys()\n",
    "\n",
    "# adi_response['pages'][0]['angle']\n",
    "\n",
    "# adi_response['pages'][0]['unit']"
   ]
  },
  {
   "cell_type": "code",
   "execution_count": 110,
   "id": "19ee8c34-5c26-4314-bfc1-c6a53007226f",
   "metadata": {
    "scrolled": true
   },
   "outputs": [
    {
     "name": "stdout",
     "output_type": "stream",
     "text": [
      "{'pageNumber': 1, 'angle': 0, 'width': 8.5, 'height': 11, 'unit': 'inch', 'words': [{'content': 'Spa', 'polygon': [2.6025, 1.0169, 3.6292, 1.0026, 3.6388, 1.6185, 2.6121, 1.6328], 'confidence': 0.974, 'span': {'offset': 0, 'length': 3}}, {'content': 'Supplies', 'polygon': [2.6216, 1.7617, 4.9042, 1.7331, 4.9376, 2.3633, 2.6216, 2.3633], 'confidence': 0.993, 'span': {'offset': 4, 'length': 8}}, {'content': '68', 'polygon': [1.3801, 2.7023, 1.5376, 2.6975, 1.5376, 2.8407, 1.3848, 2.8407], 'confidence': 0.996, 'span': {'offset': 13, 'length': 2}}, {'content': 'Vroom', 'polygon': [1.5711, 2.6975, 1.934, 2.6975, 1.934, 2.8407, 1.5758, 2.8407], 'confidence': 0.995, 'span': {'offset': 16, 'length': 5}}, {'content': 'Street,', 'polygon': [2.0343, 2.6975, 2.4354, 2.6975, 2.4354, 2.8407, 2.039, 2.8407], 'confidence': 0.993, 'span': {'offset': 22, 'length': 7}}, {'content': 'Medalia', 'polygon': [1.3801, 2.9266, 1.8767, 2.9362, 1.8719, 3.089, 1.3801, 3.0794], 'confidence': 0.994, 'span': {'offset': 30, 'length': 7}}, {'content': 'City,', 'polygon': [1.9149, 2.9362, 2.1871, 2.941, 2.1823, 3.089, 1.9101, 3.089], 'confidence': 0.993, 'span': {'offset': 38, 'length': 5}}, {'content': 'MM', 'polygon': [1.3801, 3.1606, 1.5567, 3.1654, 1.5567, 3.2943, 1.3801, 3.2943], 'confidence': 0.996, 'span': {'offset': 44, 'length': 2}}, {'content': '88531', 'polygon': [1.657, 3.1654, 2.0343, 3.1654, 2.039, 3.2943, 1.657, 3.2943], 'confidence': 0.995, 'span': {'offset': 47, 'length': 5}}, {'content': 'Phone:', 'polygon': [1.3848, 3.4996, 1.8767, 3.4948, 1.8767, 3.6285, 1.3848, 3.6285], 'confidence': 0.993, 'span': {'offset': 53, 'length': 6}}, {'content': '222-222-9000', 'polygon': [1.9006, 3.4948, 2.7553, 3.49, 2.7553, 3.638, 1.9053, 3.6285], 'confidence': 0.993, 'span': {'offset': 60, 'length': 12}}, {'content': 'Fax:', 'polygon': [1.3896, 3.6523, 1.6761, 3.6523, 1.6761, 3.8051, 1.3896, 3.8051], 'confidence': 0.992, 'span': {'offset': 73, 'length': 4}}, {'content': '222-222-9001', 'polygon': [1.891, 3.6523, 2.7553, 3.6523, 2.7601, 3.8099, 1.891, 3.8099], 'confidence': 0.991, 'span': {'offset': 78, 'length': 12}}, {'content': 'INVOICE', 'polygon': [5.014, 3.681, 7.4542, 3.6428, 7.4638, 4.0916, 4.9997, 4.0964], 'confidence': 0.974, 'span': {'offset': 91, 'length': 7}}, {'content': 'Email:', 'polygon': [1.3753, 3.829, 1.8146, 3.8338, 1.8194, 3.9674, 1.3801, 3.9722], 'confidence': 0.989, 'span': {'offset': 99, 'length': 6}}, {'content': 'tonsofcars@it.com', 'polygon': [1.8719, 3.8338, 2.9846, 3.8338, 2.9846, 3.9722, 1.8719, 3.9674], 'confidence': 0.95, 'span': {'offset': 106, 'length': 17}}, {'content': 'Bill', 'polygon': [1.3753, 5.1085, 1.6093, 5.1085, 1.6093, 5.2613, 1.3753, 5.2517], 'confidence': 0.993, 'span': {'offset': 124, 'length': 4}}, {'content': 'To:', 'polygon': [1.6379, 5.1085, 1.8433, 5.1133, 1.8433, 5.2613, 1.6379, 5.2613], 'confidence': 0.99, 'span': {'offset': 129, 'length': 3}}, {'content': 'Olympic', 'polygon': [2.3924, 5.1133, 2.8938, 5.1133, 2.8938, 5.2756, 2.3876, 5.2804], 'confidence': 0.994, 'span': {'offset': 133, 'length': 7}}, {'content': 'World', 'polygon': [2.9272, 5.1133, 3.2902, 5.1085, 3.2949, 5.2708, 2.9272, 5.2756], 'confidence': 0.995, 'span': {'offset': 141, 'length': 5}}, {'content': 'Hotel.', 'polygon': [3.3236, 5.1085, 3.7008, 5.1085, 3.7056, 5.2708, 3.3236, 5.2708], 'confidence': 0.99, 'span': {'offset': 147, 'length': 6}}, {'content': '55', 'polygon': [2.3876, 5.2804, 2.5404, 5.2804, 2.5452, 5.4236, 2.3924, 5.4284], 'confidence': 0.996, 'span': {'offset': 154, 'length': 2}}, {'content': 'Comfort', 'polygon': [2.5882, 5.2804, 3.0992, 5.2852, 3.1039, 5.4188, 2.593, 5.4236], 'confidence': 0.993, 'span': {'offset': 157, 'length': 7}}, {'content': 'Street', 'polygon': [3.1278, 5.2852, 3.5051, 5.2804, 3.5051, 5.4188, 3.1278, 5.4188], 'confidence': 0.995, 'span': {'offset': 165, 'length': 6}}, {'content': 'Medalia', 'polygon': [2.3876, 5.4379, 2.8843, 5.4427, 2.8843, 5.5955, 2.3876, 5.5955], 'confidence': 0.994, 'span': {'offset': 172, 'length': 7}}, {'content': 'City,', 'polygon': [2.9225, 5.4475, 3.1899, 5.4475, 3.1899, 5.5955, 2.9225, 5.5955], 'confidence': 0.993, 'span': {'offset': 180, 'length': 5}}, {'content': 'MM', 'polygon': [2.3924, 5.6098, 2.5691, 5.6098, 2.5691, 5.7483, 2.3924, 5.7483], 'confidence': 0.996, 'span': {'offset': 186, 'length': 2}}, {'content': '88531', 'polygon': [2.6694, 5.6146, 3.0466, 5.6146, 3.0514, 5.7483, 2.6694, 5.7483], 'confidence': 0.995, 'span': {'offset': 189, 'length': 5}}, {'content': 'Invoice', 'polygon': [1.3801, 5.9488, 1.8433, 5.9536, 1.848, 6.0825, 1.3848, 6.0825], 'confidence': 0.965, 'span': {'offset': 195, 'length': 7}}, {'content': '#:', 'polygon': [1.8862, 5.9536, 2.0152, 5.9536, 2.0152, 6.0825, 1.8862, 6.0825], 'confidence': 0.899, 'span': {'offset': 203, 'length': 2}}, {'content': 'PLC0920', 'polygon': [2.3924, 5.9536, 2.9654, 5.9536, 2.9654, 6.0825, 2.3972, 6.0777], 'confidence': 0.993, 'span': {'offset': 206, 'length': 7}}, {'content': 'Invoice', 'polygon': [1.3705, 6.1063, 1.8528, 6.1159, 1.8528, 6.2496, 1.3753, 6.2543], 'confidence': 0.986, 'span': {'offset': 214, 'length': 7}}, {'content': 'Date:', 'polygon': [1.8958, 6.1159, 2.2348, 6.1207, 2.2348, 6.2448, 1.8958, 6.2496], 'confidence': 0.995, 'span': {'offset': 222, 'length': 5}}, {'content': 'March', 'polygon': [2.3924, 6.1159, 2.7697, 6.1159, 2.7697, 6.2496, 2.3924, 6.2496], 'confidence': 0.995, 'span': {'offset': 228, 'length': 5}}, {'content': '2,20X3', 'polygon': [2.827, 6.1159, 3.2615, 6.1111, 3.2615, 6.2496, 2.827, 6.2496], 'confidence': 0.903, 'span': {'offset': 234, 'length': 6}}, {'content': 'Customer', 'polygon': [1.3848, 6.2734, 2.0295, 6.283, 2.0295, 6.4119, 1.3848, 6.4167], 'confidence': 0.994, 'span': {'offset': 241, 'length': 8}}, {'content': 'ID:', 'polygon': [2.0534, 6.283, 2.2396, 6.2782, 2.2396, 6.4119, 2.0534, 6.4119], 'confidence': 0.995, 'span': {'offset': 250, 'length': 3}}, {'content': '124', 'polygon': [2.4163, 6.2782, 2.6216, 6.2782, 2.6216, 6.4023, 2.4163, 6.4023], 'confidence': 0.993, 'span': {'offset': 254, 'length': 3}}, {'content': 'Vendor', 'polygon': [1.3944, 6.4214, 1.8815, 6.4262, 1.8815, 6.5551, 1.3944, 6.5647], 'confidence': 0.995, 'span': {'offset': 258, 'length': 6}}, {'content': 'No:', 'polygon': [1.9101, 6.4262, 2.1441, 6.4262, 2.1441, 6.5599, 1.9101, 6.5551], 'confidence': 0.995, 'span': {'offset': 265, 'length': 3}}, {'content': '15', 'polygon': [2.3924, 6.4262, 2.5213, 6.4262, 2.5213, 6.5456, 2.3924, 6.5456], 'confidence': 0.997, 'span': {'offset': 269, 'length': 2}}, {'content': 'TO', 'polygon': [1.3992, 6.5838, 1.5472, 6.5885, 1.5472, 6.7318, 1.4039, 6.7318], 'confidence': 0.996, 'span': {'offset': 272, 'length': 2}}, {'content': 'number:', 'polygon': [1.6093, 6.5885, 2.1823, 6.5885, 2.1823, 6.727, 1.614, 6.727], 'confidence': 0.99, 'span': {'offset': 275, 'length': 7}}, {'content': 'GSQ0415DB0037', 'polygon': [2.3924, 6.5838, 3.5146, 6.579, 3.5146, 6.7365, 2.3972, 6.727], 'confidence': 0.993, 'span': {'offset': 283, 'length': 13}}, {'content': 'Quantity', 'polygon': [0.5444, 6.8129, 1.1031, 6.8082, 1.1031, 6.9609, 0.5492, 6.9562], 'confidence': 0.995, 'span': {'offset': 297, 'length': 8}}, {'content': 'Items', 'polygon': [1.3371, 6.8129, 1.6761, 6.8129, 1.6761, 6.9371, 1.3371, 6.9371], 'confidence': 0.827, 'span': {'offset': 306, 'length': 5}}, {'content': 'Units', 'polygon': [1.9244, 6.8082, 2.2539, 6.8082, 2.2539, 6.9418, 1.9244, 6.9371], 'confidence': 0.993, 'span': {'offset': 312, 'length': 5}}, {'content': 'Descri', 'polygon': [3.0944, 6.8129, 3.5098, 6.8082, 3.5098, 6.9466, 3.0992, 6.9418], 'confidence': 0.995, 'span': {'offset': 318, 'length': 6}}, {'content': 'Discount', 'polygon': [4.4171, 6.8129, 4.9854, 6.8082, 4.9806, 6.9466, 4.4171, 6.9418], 'confidence': 0.994, 'span': {'offset': 325, 'length': 8}}, {'content': '%', 'polygon': [5.0618, 6.8082, 5.1287, 6.8082, 5.1239, 6.9466, 5.0618, 6.9466], 'confidence': 0.951, 'span': {'offset': 334, 'length': 1}}, {'content': 'Taxable', 'polygon': [5.5393, 6.8129, 6.0169, 6.8129, 6.0169, 6.9466, 5.5441, 6.9418], 'confidence': 0.995, 'span': {'offset': 336, 'length': 7}}, {'content': 'Unit', 'polygon': [6.2747, 6.8129, 6.5326, 6.8129, 6.5326, 6.9466, 6.2747, 6.9371], 'confidence': 0.992, 'span': {'offset': 344, 'length': 4}}, {'content': 'Price', 'polygon': [6.5565, 6.8129, 6.8716, 6.8129, 6.8716, 6.9466, 6.5565, 6.9466], 'confidence': 0.992, 'span': {'offset': 349, 'length': 5}}, {'content': 'Total', 'polygon': [7.2823, 6.8082, 7.5927, 6.8082, 7.5927, 6.9371, 7.2823, 6.9371], 'confidence': 0.995, 'span': {'offset': 355, 'length': 5}}, {'content': '14', 'polygon': [0.764, 7.0182, 0.8834, 7.0182, 0.8834, 7.1376, 0.764, 7.1376], 'confidence': 0.994, 'span': {'offset': 361, 'length': 2}}, {'content': 'MTBL', 'polygon': [1.2034, 6.9896, 1.552, 6.9944, 1.5472, 7.1662, 1.1986, 7.1615], 'confidence': 0.97, 'span': {'offset': 364, 'length': 4}}, {'content': '1', 'polygon': [2.0629, 7.0278, 2.1107, 7.0278, 2.1154, 7.1233, 2.0677, 7.128], 'confidence': 0.926, 'span': {'offset': 369, 'length': 1}}, {'content': 'Massage', 'polygon': [2.3638, 7.0182, 2.8747, 7.023, 2.8747, 7.1615, 2.3638, 7.1471], 'confidence': 0.994, 'span': {'offset': 371, 'length': 7}}, {'content': 'tables', 'polygon': [2.9081, 7.023, 3.2567, 7.023, 3.2567, 7.1567, 2.9081, 7.1615], 'confidence': 0.994, 'span': {'offset': 379, 'length': 6}}, {'content': 'N/A', 'polygon': [4.8899, 6.9944, 5.1191, 6.9896, 5.1239, 7.1615, 4.8947, 7.1662], 'confidence': 0.981, 'span': {'offset': 386, 'length': 3}}, {'content': 'N/A', 'polygon': [5.8354, 6.9944, 6.0598, 6.9944, 6.0598, 7.1567, 5.8354, 7.1567], 'confidence': 0.986, 'span': {'offset': 390, 'length': 3}}, {'content': '$2,300', 'polygon': [6.4657, 7.0182, 6.8573, 7.0087, 6.8621, 7.1519, 6.4705, 7.1519], 'confidence': 0.995, 'span': {'offset': 394, 'length': 6}}, {'content': '$32,200', 'polygon': [7.3921, 7.0087, 7.8697, 7.0039, 7.8697, 7.171, 7.3921, 7.1662], 'confidence': 0.995, 'span': {'offset': 401, 'length': 7}}, {'content': '-', 'polygon': [1.891, 7.0373, 1.8862, 7.066, 1.8385, 7.0612, 1.8433, 7.0326], 'confidence': 0.701, 'span': {'offset': 409, 'length': 1}}, {'content': '14', 'polygon': [0.7688, 7.2713, 0.8834, 7.2713, 0.8834, 7.3859, 0.7688, 7.3811], 'confidence': 0.998, 'span': {'offset': 411, 'length': 2}}, {'content': 'TH', 'polygon': [1.2272, 7.2378, 1.3753, 7.2378, 1.3753, 7.4049, 1.2225, 7.4049], 'confidence': 0.995, 'span': {'offset': 414, 'length': 2}}, {'content': '1', 'polygon': [2.0677, 7.2331, 2.1202, 7.2331, 2.1202, 7.3381, 2.0677, 7.3381], 'confidence': 0.995, 'span': {'offset': 417, 'length': 1}}, {'content': 'Towel', 'polygon': [2.3876, 7.2283, 2.7219, 7.2283, 2.7219, 7.3477, 2.3924, 7.3477], 'confidence': 0.992, 'span': {'offset': 419, 'length': 5}}, {'content': 'heaters', 'polygon': [2.741, 7.2283, 3.1708, 7.2283, 3.1708, 7.3477, 2.7458, 7.3477], 'confidence': 0.995, 'span': {'offset': 425, 'length': 7}}, {'content': '-', 'polygon': [1.8862, 7.2522, 1.8815, 7.2713, 1.8385, 7.2713, 1.8433, 7.2474], 'confidence': 0.58, 'span': {'offset': 433, 'length': 1}}, {'content': 'N/A', 'polygon': [4.8899, 7.2426, 5.1191, 7.2426, 5.1191, 7.4049, 4.8947, 7.4049], 'confidence': 0.993, 'span': {'offset': 435, 'length': 3}}, {'content': 'N/A', 'polygon': [5.8354, 7.2474, 6.0551, 7.2474, 6.0551, 7.4049, 5.8306, 7.4002], 'confidence': 0.993, 'span': {'offset': 439, 'length': 3}}, {'content': '$768', 'polygon': [6.566, 7.2569, 6.8621, 7.2569, 6.8621, 7.4002, 6.566, 7.4002], 'confidence': 0.994, 'span': {'offset': 443, 'length': 4}}, {'content': '$10,752', 'polygon': [7.3921, 7.2522, 7.8649, 7.2569, 7.8649, 7.4097, 7.3921, 7.4097], 'confidence': 0.995, 'span': {'offset': 448, 'length': 7}}, {'content': '7', 'polygon': [0.8309, 7.4861, 0.893, 7.4861, 0.893, 7.6007, 0.8309, 7.6007], 'confidence': 0.996, 'span': {'offset': 456, 'length': 1}}, {'content': 'EWCH', 'polygon': [1.2129, 7.4909, 1.5711, 7.4909, 1.5663, 7.6246, 1.2177, 7.6198], 'confidence': 0.992, 'span': {'offset': 458, 'length': 4}}, {'content': 'I', 'polygon': [1.8528, 7.4622, 1.8862, 7.4622, 1.8815, 7.5291, 1.8433, 7.5243], 'confidence': 0.535, 'span': {'offset': 463, 'length': 1}}, {'content': '1', 'polygon': [2.0677, 7.4622, 2.1011, 7.4622, 2.1059, 7.5625, 2.0677, 7.5625], 'confidence': 0.996, 'span': {'offset': 465, 'length': 1}}, {'content': 'Entry-way', 'polygon': [2.3781, 7.4575, 2.9416, 7.4575, 2.9416, 7.5959, 2.3781, 7.5864], 'confidence': 0.993, 'span': {'offset': 467, 'length': 9}}, {'content': 'chairs', 'polygon': [2.9654, 7.4575, 3.3093, 7.4527, 3.3093, 7.5911, 2.9654, 7.5959], 'confidence': 0.994, 'span': {'offset': 477, 'length': 6}}, {'content': 'N/A', 'polygon': [4.8899, 7.467, 5.0952, 7.467, 5.0952, 7.6341, 4.8899, 7.6341], 'confidence': 0.94, 'span': {'offset': 484, 'length': 3}}, {'content': 'N/A', 'polygon': [5.8354, 7.4718, 6.0551, 7.4718, 6.0551, 7.6293, 5.8354, 7.6293], 'confidence': 0.992, 'span': {'offset': 488, 'length': 3}}, {'content': '$1,136', 'polygon': [6.4705, 7.467, 6.8764, 7.467, 6.8812, 7.6341, 6.4705, 7.6389], 'confidence': 0.961, 'span': {'offset': 492, 'length': 6}}, {'content': '$7,952', 'polygon': [7.4638, 7.4957, 7.8553, 7.4957, 7.8601, 7.6341, 7.4685, 7.6293], 'confidence': 0.995, 'span': {'offset': 499, 'length': 6}}, {'content': '14', 'polygon': [0.7688, 7.7248, 0.8882, 7.7248, 0.8834, 7.849, 0.7688, 7.8442], 'confidence': 0.997, 'span': {'offset': 506, 'length': 2}}, {'content': 'WAX', 'polygon': [1.2177, 7.7296, 1.4994, 7.7296, 1.4994, 7.8537, 1.2177, 7.8537], 'confidence': 0.995, 'span': {'offset': 509, 'length': 3}}, {'content': '1', 'polygon': [2.0581, 7.701, 2.1059, 7.6962, 2.1154, 7.7917, 2.0677, 7.7964], 'confidence': 0.995, 'span': {'offset': 513, 'length': 1}}, {'content': 'Wax', 'polygon': [2.3733, 7.6914, 2.6312, 7.6914, 2.6312, 7.8155, 2.3733, 7.8108], 'confidence': 0.996, 'span': {'offset': 515, 'length': 3}}, {'content': 'heaters', 'polygon': [2.6551, 7.6914, 3.0896, 7.6914, 3.0896, 7.8155, 2.6551, 7.8155], 'confidence': 0.995, 'span': {'offset': 519, 'length': 7}}, {'content': 'N/A', 'polygon': [4.8994, 7.7248, 5.1048, 7.7296, 5.1048, 7.8585, 4.8994, 7.8537], 'confidence': 0.862, 'span': {'offset': 527, 'length': 3}}, {'content': 'N/A', 'polygon': [5.8354, 7.7105, 6.0503, 7.7105, 6.0551, 7.8681, 5.8354, 7.8681], 'confidence': 0.994, 'span': {'offset': 531, 'length': 3}}, {'content': '$987', 'polygon': [6.566, 7.7248, 6.8716, 7.7248, 6.8716, 7.8633, 6.566, 7.8585], 'confidence': 0.995, 'span': {'offset': 535, 'length': 4}}, {'content': '$13,818', 'polygon': [7.3969, 7.7153, 7.8649, 7.7105, 7.8697, 7.8728, 7.3969, 7.8776], 'confidence': 0.994, 'span': {'offset': 540, 'length': 7}}, {'content': '16', 'polygon': [0.764, 7.9588, 0.8834, 7.9588, 0.8834, 8.0781, 0.764, 8.0734], 'confidence': 0.993, 'span': {'offset': 548, 'length': 2}}, {'content': 'SLOU', 'polygon': [1.2281, 7.9758, 1.5527, 7.9758, 1.5527, 8.0697, 1.2281, 8.0697], 'confidence': 1, 'span': {'offset': 551, 'length': 4}}, {'content': '1', 'polygon': [2.0629, 7.9253, 2.1107, 7.9253, 2.1107, 8.0208, 2.0629, 8.0208], 'confidence': 0.996, 'span': {'offset': 556, 'length': 1}}, {'content': 'Spa', 'polygon': [2.3829, 7.9158, 2.593, 7.9158, 2.5978, 8.059, 2.3876, 8.059], 'confidence': 0.996, 'span': {'offset': 558, 'length': 3}}, {'content': 'loungers', 'polygon': [2.6216, 7.9158, 3.1183, 7.9206, 3.123, 8.0638, 2.6264, 8.059], 'confidence': 0.98, 'span': {'offset': 562, 'length': 8}}, {'content': 'N/A!', 'polygon': [4.8994, 7.954, 5.1812, 7.9588, 5.1812, 8.0829, 4.8994, 8.0781], 'confidence': 0.551, 'span': {'offset': 571, 'length': 4}}, {'content': 'N/A', 'polygon': [5.8603, 7.976, 6.0593, 7.976, 6.0593, 8.0697, 5.8603, 8.0697], 'confidence': 1, 'span': {'offset': 576, 'length': 3}}, {'content': '$979', 'polygon': [6.5612, 7.9349, 6.8716, 7.9301, 6.8716, 8.0972, 6.5612, 8.102], 'confidence': 0.995, 'span': {'offset': 580, 'length': 4}}, {'content': '$15,616', 'polygon': [7.4017, 7.9588, 7.8506, 7.9588, 7.8553, 8.0924, 7.4065, 8.0972], 'confidence': 0.989, 'span': {'offset': 585, 'length': 7}}, {'content': '4', 'polygon': [0.7879, 8.1832, 0.8452, 8.1832, 0.8452, 8.293, 0.7879, 8.293], 'confidence': 0.997, 'span': {'offset': 593, 'length': 1}}, {'content': 'HTUB', 'polygon': [1.1461, 8.1832, 1.5424, 8.1927, 1.5424, 8.3121, 1.1461, 8.3073], 'confidence': 1, 'span': {'offset': 595, 'length': 4}}, {'content': '1', 'polygon': [2.0629, 8.1545, 2.1107, 8.1545, 2.1107, 8.25, 2.0629, 8.25], 'confidence': 0.996, 'span': {'offset': 600, 'length': 1}}, {'content': 'Hot', 'polygon': [2.3829, 8.1545, 2.5882, 8.1545, 2.5882, 8.2691, 2.3876, 8.2691], 'confidence': 0.996, 'span': {'offset': 602, 'length': 3}}, {'content': 'tub', 'polygon': [2.6073, 8.1545, 2.7744, 8.1497, 2.7744, 8.2691, 2.6121, 8.2691], 'confidence': 0.995, 'span': {'offset': 606, 'length': 3}}, {'content': 'N/A', 'polygon': [4.9203, 8.2076, 5.1193, 8.2076, 5.1193, 8.3014, 4.9203, 8.3014], 'confidence': 1, 'span': {'offset': 610, 'length': 3}}, {'content': 'N/A', 'polygon': [5.8306, 8.1688, 6.0598, 8.1736, 6.0551, 8.3312, 5.8306, 8.3264], 'confidence': 0.992, 'span': {'offset': 614, 'length': 3}}, {'content': '$50,613', 'polygon': [6.3989, 8.1927, 6.8669, 8.1832, 6.8669, 8.3168, 6.4037, 8.3264], 'confidence': 0.995, 'span': {'offset': 618, 'length': 7}}, {'content': '$202,453', 'polygon': [7.3301, 8.1879, 7.8601, 8.1879, 7.8601, 8.3216, 7.3348, 8.3216], 'confidence': 0.993, 'span': {'offset': 626, 'length': 8}}, {'content': '12', 'polygon': [0.7736, 8.4123, 0.9025, 8.4123, 0.8978, 8.5317, 0.7688, 8.5269], 'confidence': 0.997, 'span': {'offset': 635, 'length': 2}}, {'content': 'PEDC', 'polygon': [1.2252, 8.4229, 1.5576, 8.4229, 1.5576, 8.5167, 1.2252, 8.5167], 'confidence': 1, 'span': {'offset': 638, 'length': 4}}, {'content': 'I', 'polygon': [1.8528, 8.4171, 1.8862, 8.4171, 1.8862, 8.4887, 1.8528, 8.4887], 'confidence': 0.531, 'span': {'offset': 643, 'length': 1}}, {'content': '1', 'polygon': [2.0629, 8.3885, 2.1107, 8.3885, 2.1107, 8.4839, 2.0629, 8.4839], 'confidence': 0.996, 'span': {'offset': 645, 'length': 1}}, {'content': 'Pedicure', 'polygon': [2.3609, 8.3966, 2.8394, 8.3966, 2.8394, 8.4889, 2.3609, 8.4889], 'confidence': 1, 'span': {'offset': 647, 'length': 8}}, {'content': 'chair', 'polygon': [2.8836, 8.3966, 3.1508, 8.3966, 3.1508, 8.4889, 2.8836, 8.4889], 'confidence': 1, 'span': {'offset': 656, 'length': 5}}, {'content': 'N/A', 'polygon': [4.8947, 8.4028, 5.0904, 8.4028, 5.0904, 8.5603, 4.8947, 8.5651], 'confidence': 0.945, 'span': {'offset': 662, 'length': 3}}, {'content': 'N/A', 'polygon': [5.8306, 8.4076, 6.0503, 8.4076, 6.0503, 8.5603, 5.8306, 8.5603], 'confidence': 0.993, 'span': {'offset': 666, 'length': 3}}, {'content': '$3,456', 'polygon': [6.4705, 8.4171, 6.8573, 8.4171, 6.8621, 8.5556, 6.4705, 8.5556], 'confidence': 0.994, 'span': {'offset': 670, 'length': 6}}, {'content': '$41,472', 'polygon': [7.4017, 8.4267, 7.8649, 8.4219, 7.8697, 8.5556, 7.4065, 8.5508], 'confidence': 0.993, 'span': {'offset': 677, 'length': 7}}, {'content': '4', 'polygon': [0.7879, 8.6415, 0.85, 8.6415, 0.85, 8.7561, 0.7879, 8.7561], 'confidence': 0.997, 'span': {'offset': 685, 'length': 1}}, {'content': 'DRY', 'polygon': [1.2034, 8.6319, 1.4708, 8.6319, 1.4708, 8.7656, 1.2034, 8.7656], 'confidence': 0.995, 'span': {'offset': 687, 'length': 3}}, {'content': 'I', 'polygon': [1.8528, 8.6319, 1.891, 8.6319, 1.8862, 8.7083, 1.848, 8.7036], 'confidence': 0.513, 'span': {'offset': 691, 'length': 1}}, {'content': '2', 'polygon': [2.0629, 8.6176, 2.1202, 8.6176, 2.1202, 8.7179, 2.0629, 8.7179], 'confidence': 0.992, 'span': {'offset': 693, 'length': 1}}, {'content': 'Manicure', 'polygon': [2.3605, 8.6283, 2.8599, 8.6283, 2.8599, 8.7205, 2.3605, 8.7205], 'confidence': 1, 'span': {'offset': 695, 'length': 8}}, {'content': 'and', 'polygon': [2.9037, 8.6283, 3.0983, 8.6283, 3.0983, 8.7205, 2.9037, 8.7205], 'confidence': 1, 'span': {'offset': 704, 'length': 3}}, {'content': 'Pedicure', 'polygon': [3.1526, 8.6283, 3.6307, 8.6283, 3.6307, 8.7205, 3.1526, 8.7205], 'confidence': 1, 'span': {'offset': 708, 'length': 8}}, {'content': 'dryer', 'polygon': [3.6744, 8.6283, 3.9563, 8.6283, 3.9563, 8.7453, 3.6744, 8.7453], 'confidence': 1, 'span': {'offset': 717, 'length': 5}}, {'content': 'N/A', 'polygon': [4.8899, 8.6367, 5.1, 8.6367, 5.1, 8.7943, 4.8899, 8.7943], 'confidence': 0.955, 'span': {'offset': 723, 'length': 3}}, {'content': 'N/A', 'polygon': [5.8354, 8.6367, 6.0503, 8.6367, 6.0551, 8.7943, 5.8354, 8.7943], 'confidence': 0.995, 'span': {'offset': 727, 'length': 3}}, {'content': '$1,456', 'polygon': [6.461, 8.6415, 6.8573, 8.6415, 6.8573, 8.7847, 6.461, 8.7799], 'confidence': 0.993, 'span': {'offset': 731, 'length': 6}}, {'content': '$5,824', 'polygon': [7.4685, 8.651, 7.8553, 8.651, 7.8553, 8.7799, 7.4733, 8.7847], 'confidence': 0.992, 'span': {'offset': 738, 'length': 6}}, {'content': '10', 'polygon': [0.764, 8.8516, 0.8882, 8.8516, 0.8882, 8.9948, 0.764, 8.9948], 'confidence': 0.997, 'span': {'offset': 745, 'length': 2}}, {'content': 'MANI', 'polygon': [1.2034, 8.8611, 1.5233, 8.8611, 1.5233, 8.9948, 1.2034, 8.99], 'confidence': 0.99, 'span': {'offset': 748, 'length': 4}}, {'content': '1', 'polygon': [1.8576, 8.842, 1.9006, 8.8468, 1.891, 8.9232, 1.848, 8.9184], 'confidence': 0.682, 'span': {'offset': 753, 'length': 1}}, {'content': '1', 'polygon': [2.0629, 8.8516, 2.1154, 8.8516, 2.1107, 8.9805, 2.0629, 8.9757], 'confidence': 0.995, 'span': {'offset': 755, 'length': 1}}, {'content': 'Manicure', 'polygon': [2.3605, 8.8591, 2.86, 8.8591, 2.86, 8.9514, 2.3605, 8.9514], 'confidence': 1, 'span': {'offset': 757, 'length': 8}}, {'content': 'tables', 'polygon': [2.9016, 8.8591, 3.2279, 8.8591, 3.2279, 8.9514, 2.9016, 8.9514], 'confidence': 1, 'span': {'offset': 766, 'length': 6}}, {'content': 'N/A', 'polygon': [4.9042, 8.8563, 5.1143, 8.8563, 5.1191, 9.0187, 4.9042, 9.0187], 'confidence': 0.595, 'span': {'offset': 773, 'length': 3}}, {'content': 'I', 'polygon': [5.1573, 8.842, 5.1907, 8.842, 5.1907, 8.9232, 5.1573, 8.9232], 'confidence': 0.526, 'span': {'offset': 777, 'length': 1}}, {'content': 'N/A', 'polygon': [5.8402, 8.8659, 6.036, 8.8659, 6.0407, 9.0187, 5.8402, 9.0234], 'confidence': 0.93, 'span': {'offset': 779, 'length': 3}}, {'content': ';', 'polygon': [6.0694, 8.8659, 6.1458, 8.8659, 6.1506, 9.0187, 6.0694, 9.0187], 'confidence': 0.248, 'span': {'offset': 783, 'length': 1}}, {'content': '$2,488', 'polygon': [6.4657, 8.8754, 6.8573, 8.8754, 6.8573, 9.0139, 6.4657, 9.0139], 'confidence': 0.992, 'span': {'offset': 785, 'length': 6}}, {'content': '$24,880', 'polygon': [7.3921, 8.8707, 7.8649, 8.8707, 7.8697, 9.0282, 7.3969, 9.033], 'confidence': 0.995, 'span': {'offset': 792, 'length': 7}}, {'content': '-', 'polygon': [1.8862, 8.9566, 1.8862, 8.9805, 1.8433, 8.9757, 1.8433, 8.9518], 'confidence': 0.509, 'span': {'offset': 800, 'length': 1}}, {'content': '-', 'polygon': [1.1699, 9.1667, 1.1699, 9.1905, 1.1222, 9.1905, 1.1222, 9.1667], 'confidence': 0.876, 'span': {'offset': 802, 'length': 1}}, {'content': 'I', 'polygon': [2.2874, 9.1523, 2.3208, 9.1523, 2.3208, 9.2383, 2.2874, 9.2383], 'confidence': 0.59, 'span': {'offset': 804, 'length': 1}}, {'content': 'I', 'polygon': [5.1573, 9.1428, 5.2003, 9.1428, 5.1955, 9.2478, 5.1573, 9.2431], 'confidence': 0.526, 'span': {'offset': 806, 'length': 1}}, {'content': '-', 'polygon': [1.8862, 9.1667, 1.8862, 9.1905, 1.8385, 9.1905, 1.8385, 9.1667], 'confidence': 0.572, 'span': {'offset': 808, 'length': 1}}, {'content': 'Total', 'polygon': [6.5803, 9.3338, 6.886, 9.3338, 6.8907, 9.4913, 6.5803, 9.4913], 'confidence': 0.995, 'span': {'offset': 810, 'length': 5}}, {'content': '$354,967', 'polygon': [7.3444, 9.3481, 7.8792, 9.3576, 7.8744, 9.4818, 7.3444, 9.4865], 'confidence': 0.995, 'span': {'offset': 816, 'length': 8}}, {'content': 'DISCLAIMER:', 'polygon': [0.2626, 9.7491, 1.1747, 9.7491, 1.1747, 9.8924, 0.2674, 9.8876], 'confidence': 0.945, 'span': {'offset': 825, 'length': 11}}, {'content': 'The', 'polygon': [1.2034, 9.7491, 1.4278, 9.7491, 1.4326, 9.8971, 1.2081, 9.8924], 'confidence': 0.993, 'span': {'offset': 837, 'length': 3}}, {'content': 'information', 'polygon': [1.4565, 9.7491, 2.1441, 9.7491, 2.1489, 9.8971, 1.4612, 9.8971], 'confidence': 0.989, 'span': {'offset': 841, 'length': 11}}, {'content': 'contained', 'polygon': [2.1966, 9.7491, 2.7935, 9.7491, 2.7983, 9.9019, 2.1966, 9.8971], 'confidence': 0.993, 'span': {'offset': 853, 'length': 9}}, {'content': 'herein', 'polygon': [2.8222, 9.7491, 3.2138, 9.7491, 3.2185, 9.9019, 2.827, 9.9019], 'confidence': 0.993, 'span': {'offset': 863, 'length': 6}}, {'content': 'is', 'polygon': [3.2472, 9.7491, 3.3713, 9.7491, 3.3761, 9.9019, 3.2472, 9.9019], 'confidence': 0.996, 'span': {'offset': 870, 'length': 2}}, {'content': 'of', 'polygon': [3.4, 9.7491, 3.5289, 9.7491, 3.5337, 9.9019, 3.4048, 9.9019], 'confidence': 0.995, 'span': {'offset': 873, 'length': 2}}, {'content': 'a', 'polygon': [3.5576, 9.7491, 3.6388, 9.7491, 3.6388, 9.9019, 3.5624, 9.9019], 'confidence': 0.995, 'span': {'offset': 876, 'length': 1}}, {'content': 'general', 'polygon': [3.6674, 9.7491, 4.1402, 9.7491, 4.1402, 9.9019, 3.6722, 9.9019], 'confidence': 0.994, 'span': {'offset': 878, 'length': 7}}, {'content': 'nature', 'polygon': [4.1688, 9.7491, 4.5699, 9.7491, 4.5747, 9.9019, 4.1688, 9.9019], 'confidence': 0.994, 'span': {'offset': 886, 'length': 6}}, {'content': 'and', 'polygon': [4.6081, 9.7491, 4.8374, 9.7491, 4.8374, 9.9019, 4.6129, 9.9019], 'confidence': 0.997, 'span': {'offset': 893, 'length': 3}}, {'content': 'was', 'polygon': [4.8756, 9.7491, 5.1287, 9.7491, 5.1334, 9.9019, 4.8756, 9.9019], 'confidence': 0.995, 'span': {'offset': 897, 'length': 3}}, {'content': 'created', 'polygon': [5.1573, 9.7491, 5.6205, 9.7491, 5.6253, 9.9019, 5.1621, 9.9019], 'confidence': 0.994, 'span': {'offset': 901, 'length': 7}}, {'content': 'for', 'polygon': [5.6587, 9.7491, 5.8258, 9.7491, 5.8306, 9.9019, 5.6635, 9.9019], 'confidence': 0.995, 'span': {'offset': 909, 'length': 3}}, {'content': 'training', 'polygon': [5.8545, 9.7491, 6.3177, 9.7491, 6.3225, 9.9019, 5.8593, 9.9019], 'confidence': 0.993, 'span': {'offset': 913, 'length': 8}}, {'content': 'purposes', 'polygon': [6.3559, 9.7491, 6.9433, 9.7491, 6.948, 9.9019, 6.3607, 9.9019], 'confidence': 0.995, 'span': {'offset': 922, 'length': 8}}, {'content': 'and', 'polygon': [6.9767, 9.7491, 7.2011, 9.7491, 7.2011, 9.8971, 6.9767, 9.8971], 'confidence': 0.996, 'span': {'offset': 931, 'length': 3}}, {'content': 'is', 'polygon': [7.2298, 9.7491, 7.3492, 9.7491, 7.3492, 9.8971, 7.2346, 9.8971], 'confidence': 0.996, 'span': {'offset': 935, 'length': 2}}, {'content': 'not', 'polygon': [7.3778, 9.7491, 7.5736, 9.7491, 7.5784, 9.8971, 7.3778, 9.8971], 'confidence': 0.995, 'span': {'offset': 938, 'length': 3}}, {'content': 'intended', 'polygon': [7.6022, 9.7491, 8.1419, 9.7491, 8.1466, 9.8924, 7.607, 9.8971], 'confidence': 0.994, 'span': {'offset': 942, 'length': 8}}, {'content': 'to', 'polygon': [8.1801, 9.7491, 8.2994, 9.7491, 8.3042, 9.8924, 8.1848, 9.8924], 'confidence': 0.995, 'span': {'offset': 951, 'length': 2}}, {'content': 'address', 'polygon': [0.6065, 9.9258, 1.0983, 9.9258, 1.1031, 10.069, 0.6112, 10.0642], 'confidence': 0.993, 'span': {'offset': 954, 'length': 7}}, {'content': 'the', 'polygon': [1.1317, 9.9258, 1.3323, 9.9258, 1.3323, 10.069, 1.1317, 10.069], 'confidence': 0.996, 'span': {'offset': 962, 'length': 3}}, {'content': 'circumstances', 'polygon': [1.361, 9.921, 2.2683, 9.921, 2.2683, 10.0738, 1.3657, 10.069], 'confidence': 0.99, 'span': {'offset': 966, 'length': 13}}, {'content': 'of', 'polygon': [2.2969, 9.921, 2.4258, 9.921, 2.4306, 10.0738, 2.2969, 10.0738], 'confidence': 0.995, 'span': {'offset': 980, 'length': 2}}, {'content': 'any', 'polygon': [2.4593, 9.921, 2.6789, 9.921, 2.6789, 10.0786, 2.4593, 10.0738], 'confidence': 0.995, 'span': {'offset': 983, 'length': 3}}, {'content': 'particular', 'polygon': [2.7076, 9.921, 3.2949, 9.921, 3.2949, 10.0786, 2.7124, 10.0786], 'confidence': 0.982, 'span': {'offset': 987, 'length': 10}}, {'content': 'audit', 'polygon': [3.3236, 9.921, 3.634, 9.921, 3.634, 10.0786, 3.3236, 10.0786], 'confidence': 0.994, 'span': {'offset': 998, 'length': 5}}, {'content': 'engagement.', 'polygon': [3.6626, 9.921, 4.5079, 9.921, 4.5079, 10.0786, 3.6674, 10.0786], 'confidence': 0.989, 'span': {'offset': 1004, 'length': 11}}, {'content': 'This', 'polygon': [4.5699, 9.921, 4.823, 9.921, 4.823, 10.0786, 4.5699, 10.0786], 'confidence': 0.993, 'span': {'offset': 1016, 'length': 4}}, {'content': 'training', 'polygon': [4.8517, 9.921, 5.3149, 9.921, 5.3149, 10.0786, 4.8517, 10.0786], 'confidence': 0.994, 'span': {'offset': 1021, 'length': 8}}, {'content': 'is', 'polygon': [5.3435, 9.921, 5.4629, 9.921, 5.4629, 10.0786, 5.3435, 10.0786], 'confidence': 0.995, 'span': {'offset': 1030, 'length': 2}}, {'content': 'a', 'polygon': [5.4963, 9.921, 5.5775, 9.921, 5.5728, 10.0786, 5.4963, 10.0786], 'confidence': 0.995, 'span': {'offset': 1033, 'length': 1}}, {'content': 'work', 'polygon': [5.6062, 9.921, 5.907, 9.921, 5.907, 10.0786, 5.6062, 10.0786], 'confidence': 0.993, 'span': {'offset': 1035, 'length': 4}}, {'content': 'of', 'polygon': [5.9357, 9.921, 6.0598, 9.921, 6.0551, 10.0786, 5.9357, 10.0786], 'confidence': 0.995, 'span': {'offset': 1040, 'length': 2}}, {'content': 'fiction.', 'polygon': [6.0885, 9.921, 6.5087, 9.921, 6.5087, 10.0786, 6.0885, 10.0786], 'confidence': 0.994, 'span': {'offset': 1043, 'length': 8}}, {'content': 'Any', 'polygon': [6.5421, 9.921, 6.7809, 9.921, 6.7809, 10.0786, 6.5374, 10.0786], 'confidence': 0.995, 'span': {'offset': 1052, 'length': 3}}, {'content': 'names', 'polygon': [6.8143, 9.921, 7.2441, 9.9258, 7.2441, 10.0738, 6.8096, 10.0786], 'confidence': 0.995, 'span': {'offset': 1056, 'length': 5}}, {'content': 'of', 'polygon': [7.2775, 9.9258, 7.3969, 9.9258, 7.3921, 10.0738, 7.2728, 10.0738], 'confidence': 0.995, 'span': {'offset': 1062, 'length': 2}}, {'content': 'persons,', 'polygon': [7.4256, 9.9258, 7.9508, 9.9258, 7.9508, 10.0738, 7.4256, 10.0738], 'confidence': 0.982, 'span': {'offset': 1065, 'length': 8}}, {'content': 'companies,', 'polygon': [0.3868, 10.0929, 1.1031, 10.0929, 1.1031, 10.2409, 0.3868, 10.2409], 'confidence': 0.983, 'span': {'offset': 1074, 'length': 10}}, {'content': 'events', 'polygon': [1.1317, 10.0929, 1.5567, 10.0929, 1.5615, 10.2457, 1.1317, 10.2409], 'confidence': 0.993, 'span': {'offset': 1085, 'length': 6}}, {'content': 'or', 'polygon': [1.5902, 10.0929, 1.7096, 10.0929, 1.7096, 10.2457, 1.5902, 10.2457], 'confidence': 0.995, 'span': {'offset': 1092, 'length': 2}}, {'content': 'incidents,', 'polygon': [1.7382, 10.0929, 2.3447, 10.0929, 2.3447, 10.2457, 1.7382, 10.2457], 'confidence': 0.978, 'span': {'offset': 1095, 'length': 10}}, {'content': 'are', 'polygon': [2.3733, 10.0929, 2.5739, 10.0929, 2.5739, 10.2457, 2.3733, 10.2457], 'confidence': 0.995, 'span': {'offset': 1106, 'length': 3}}, {'content': 'fictitious.', 'polygon': [2.6121, 10.0929, 3.1708, 10.0881, 3.1708, 10.2457, 2.6121, 10.2457], 'confidence': 0.966, 'span': {'offset': 1110, 'length': 11}}, {'content': 'Any', 'polygon': [3.1994, 10.0881, 3.4382, 10.0881, 3.4382, 10.2457, 3.1994, 10.2457], 'confidence': 0.995, 'span': {'offset': 1122, 'length': 3}}, {'content': 'resemblance', 'polygon': [3.4669, 10.0881, 4.2596, 10.0881, 4.2643, 10.2457, 3.4669, 10.2457], 'confidence': 0.99, 'span': {'offset': 1126, 'length': 11}}, {'content': 'to', 'polygon': [4.293, 10.0881, 4.4219, 10.0881, 4.4219, 10.2457, 4.293, 10.2457], 'confidence': 0.985, 'span': {'offset': 1138, 'length': 2}}, {'content': 'actual', 'polygon': [4.4601, 10.0881, 4.8374, 10.0881, 4.8421, 10.2457, 4.4601, 10.2457], 'confidence': 0.994, 'span': {'offset': 1141, 'length': 6}}, {'content': 'persons,', 'polygon': [4.866, 10.0881, 5.3961, 10.0881, 5.3961, 10.2457, 4.8708, 10.2457], 'confidence': 0.989, 'span': {'offset': 1148, 'length': 8}}, {'content': 'living', 'polygon': [5.4247, 10.0881, 5.7638, 10.0881, 5.7638, 10.2457, 5.4247, 10.2457], 'confidence': 0.951, 'span': {'offset': 1157, 'length': 6}}, {'content': 'or', 'polygon': [5.7924, 10.0881, 5.9213, 10.0881, 5.9213, 10.2457, 5.7924, 10.2457], 'confidence': 0.995, 'span': {'offset': 1164, 'length': 2}}, {'content': 'dead,', 'polygon': [5.95, 10.0881, 6.3081, 10.0881, 6.3129, 10.2409, 5.9548, 10.2457], 'confidence': 0.991, 'span': {'offset': 1167, 'length': 5}}, {'content': 'companies', 'polygon': [6.3368, 10.0881, 7.0244, 10.0929, 7.0292, 10.2409, 6.3416, 10.2409], 'confidence': 0.982, 'span': {'offset': 1173, 'length': 9}}, {'content': 'or', 'polygon': [7.0531, 10.0929, 7.1916, 10.0929, 7.1963, 10.2409, 7.0579, 10.2409], 'confidence': 0.995, 'span': {'offset': 1183, 'length': 2}}, {'content': 'actual', 'polygon': [7.225, 10.0929, 7.6022, 10.0929, 7.6022, 10.2409, 7.225, 10.2409], 'confidence': 0.991, 'span': {'offset': 1186, 'length': 6}}, {'content': 'events', 'polygon': [7.6309, 10.0929, 8.0368, 10.0929, 8.0416, 10.2361, 7.6357, 10.2409], 'confidence': 0.989, 'span': {'offset': 1193, 'length': 6}}, {'content': 'is', 'polygon': [8.0702, 10.0929, 8.1801, 10.0929, 8.1848, 10.2361, 8.0702, 10.2361], 'confidence': 0.995, 'span': {'offset': 1200, 'length': 2}}, {'content': 'purely', 'polygon': [3.6817, 10.26, 4.0733, 10.2648, 4.0733, 10.4128, 3.6865, 10.4175], 'confidence': 0.994, 'span': {'offset': 1203, 'length': 6}}, {'content': 'coincidental.', 'polygon': [4.102, 10.2648, 4.8803, 10.26, 4.8803, 10.4032, 4.102, 10.4128], 'confidence': 0.961, 'span': {'offset': 1210, 'length': 13}}, {'content': 'Internal', 'polygon': [0.9694, 10.5321, 1.2559, 10.5321, 1.2559, 10.6372, 0.9694, 10.6324], 'confidence': 0.973, 'span': {'offset': 1224, 'length': 8}}, {'content': 'use', 'polygon': [1.275, 10.5321, 1.4135, 10.5369, 1.4135, 10.6372, 1.2798, 10.6372], 'confidence': 0.996, 'span': {'offset': 1233, 'length': 3}}, {'content': 'only', 'polygon': [1.4326, 10.5369, 1.5997, 10.5417, 1.5997, 10.6419, 1.4374, 10.6372], 'confidence': 0.99, 'span': {'offset': 1237, 'length': 4}}, {'content': '@', 'polygon': [0.9742, 10.6467, 1.0267, 10.6467, 1.0267, 10.747, 0.9742, 10.747], 'confidence': 0.509, 'span': {'offset': 1242, 'length': 1}}, {'content': '2022', 'polygon': [1.0601, 10.6467, 1.2416, 10.6467, 1.2416, 10.747, 1.0601, 10.747], 'confidence': 0.99, 'span': {'offset': 1244, 'length': 4}}, {'content': 'KPMG', 'polygon': [1.2607, 10.6467, 1.4994, 10.6467, 1.4994, 10.747, 1.2607, 10.747], 'confidence': 0.986, 'span': {'offset': 1249, 'length': 4}}, {'content': 'LLP,', 'polygon': [1.5281, 10.6467, 1.7048, 10.6467, 1.7048, 10.7517, 1.5281, 10.747], 'confidence': 0.978, 'span': {'offset': 1254, 'length': 4}}, {'content': 'a', 'polygon': [1.7287, 10.6467, 1.7764, 10.6467, 1.7764, 10.7517, 1.7287, 10.7517], 'confidence': 0.995, 'span': {'offset': 1259, 'length': 1}}, {'content': 'Delaware', 'polygon': [1.7955, 10.6467, 2.1441, 10.6467, 2.1441, 10.7517, 1.7955, 10.7517], 'confidence': 0.994, 'span': {'offset': 1261, 'length': 8}}, {'content': 'limited', 'polygon': [2.168, 10.6467, 2.4115, 10.6467, 2.4115, 10.7517, 2.168, 10.7517], 'confidence': 0.993, 'span': {'offset': 1270, 'length': 7}}, {'content': 'liability', 'polygon': [2.4354, 10.6467, 2.7028, 10.6467, 2.7028, 10.7517, 2.4354, 10.7517], 'confidence': 0.984, 'span': {'offset': 1278, 'length': 9}}, {'content': 'partnership', 'polygon': [2.7219, 10.6467, 3.1469, 10.6467, 3.1469, 10.7565, 2.7219, 10.7517], 'confidence': 0.981, 'span': {'offset': 1288, 'length': 11}}, {'content': 'and', 'polygon': [3.166, 10.6467, 3.3093, 10.6467, 3.3093, 10.7565, 3.166, 10.7565], 'confidence': 0.995, 'span': {'offset': 1300, 'length': 3}}, {'content': 'a', 'polygon': [3.3331, 10.6467, 3.3713, 10.6467, 3.3713, 10.7565, 3.3331, 10.7565], 'confidence': 0.995, 'span': {'offset': 1304, 'length': 1}}, {'content': 'member', 'polygon': [3.3952, 10.6467, 3.7008, 10.6467, 3.7008, 10.7565, 3.3952, 10.7565], 'confidence': 0.994, 'span': {'offset': 1306, 'length': 6}}, {'content': 'firm', 'polygon': [3.7247, 10.6467, 3.8537, 10.6467, 3.8537, 10.7565, 3.7247, 10.7565], 'confidence': 0.986, 'span': {'offset': 1313, 'length': 4}}, {'content': 'of', 'polygon': [3.8871, 10.6467, 3.9587, 10.6467, 3.9587, 10.7565, 3.8871, 10.7565], 'confidence': 0.995, 'span': {'offset': 1318, 'length': 2}}, {'content': 'the', 'polygon': [3.9778, 10.6467, 4.102, 10.6467, 4.102, 10.7565, 3.9778, 10.7565], 'confidence': 0.996, 'span': {'offset': 1321, 'length': 3}}, {'content': 'KPMG', 'polygon': [4.1211, 10.6467, 4.3598, 10.6467, 4.3598, 10.7565, 4.1211, 10.7565], 'confidence': 0.984, 'span': {'offset': 1325, 'length': 4}}, {'content': 'global', 'polygon': [4.3885, 10.6467, 4.6225, 10.6467, 4.6225, 10.7565, 4.3885, 10.7565], 'confidence': 0.994, 'span': {'offset': 1330, 'length': 6}}, {'content': 'organization', 'polygon': [4.6416, 10.6467, 5.1048, 10.6467, 5.1048, 10.7517, 4.6416, 10.7565], 'confidence': 0.989, 'span': {'offset': 1337, 'length': 12}}, {'content': 'of', 'polygon': [5.1239, 10.6467, 5.1907, 10.6467, 5.1907, 10.7517, 5.1239, 10.7517], 'confidence': 0.995, 'span': {'offset': 1350, 'length': 2}}, {'content': 'independent', 'polygon': [5.2146, 10.6467, 5.6778, 10.6467, 5.6778, 10.7517, 5.2146, 10.7517], 'confidence': 0.991, 'span': {'offset': 1353, 'length': 11}}, {'content': 'member', 'polygon': [5.7017, 10.6467, 6.0073, 10.6467, 6.0073, 10.7517, 5.7017, 10.7517], 'confidence': 0.994, 'span': {'offset': 1365, 'length': 6}}, {'content': 'firms', 'polygon': [6.0312, 10.6467, 6.2126, 10.6467, 6.2126, 10.747, 6.0312, 10.7517], 'confidence': 0.994, 'span': {'offset': 1372, 'length': 5}}, {'content': 'affiliated', 'polygon': [6.2365, 10.6467, 6.5517, 10.6467, 6.5517, 10.747, 6.2365, 10.747], 'confidence': 0.991, 'span': {'offset': 1378, 'length': 10}}, {'content': 'with', 'polygon': [6.5708, 10.6467, 6.7236, 10.6467, 6.7236, 10.747, 6.5708, 10.747], 'confidence': 0.993, 'span': {'offset': 1389, 'length': 4}}, {'content': 'KPMG', 'polygon': [6.7427, 10.6467, 6.9815, 10.6467, 6.9815, 10.747, 6.7427, 10.747], 'confidence': 0.991, 'span': {'offset': 1394, 'length': 4}}, {'content': 'International', 'polygon': [0.9646, 10.7565, 1.4326, 10.7565, 1.4326, 10.8615, 0.9646, 10.8568], 'confidence': 0.977, 'span': {'offset': 1399, 'length': 13}}, {'content': 'Limited,', 'polygon': [1.4565, 10.7565, 1.7573, 10.7565, 1.7573, 10.8663, 1.4565, 10.8615], 'confidence': 0.969, 'span': {'offset': 1413, 'length': 8}}, {'content': 'a', 'polygon': [1.7764, 10.7565, 1.8194, 10.7565, 1.8194, 10.8663, 1.7764, 10.8663], 'confidence': 0.996, 'span': {'offset': 1422, 'length': 1}}, {'content': 'private', 'polygon': [1.8433, 10.7565, 2.1011, 10.7565, 2.1011, 10.8663, 1.8433, 10.8663], 'confidence': 0.994, 'span': {'offset': 1424, 'length': 7}}, {'content': 'English', 'polygon': [2.1202, 10.7565, 2.402, 10.7565, 2.402, 10.8663, 2.1202, 10.8663], 'confidence': 0.993, 'span': {'offset': 1432, 'length': 7}}, {'content': 'company', 'polygon': [2.4258, 10.7565, 2.7553, 10.7565, 2.7553, 10.8663, 2.4258, 10.8663], 'confidence': 0.995, 'span': {'offset': 1440, 'length': 7}}, {'content': 'limited', 'polygon': [2.7744, 10.7565, 3.0228, 10.7565, 3.0228, 10.8663, 2.7744, 10.8663], 'confidence': 0.993, 'span': {'offset': 1448, 'length': 7}}, {'content': 'by', 'polygon': [3.0419, 10.7565, 3.1421, 10.7565, 3.1421, 10.8663, 3.0419, 10.8663], 'confidence': 0.976, 'span': {'offset': 1456, 'length': 2}}, {'content': 'guarantee.', 'polygon': [3.1612, 10.7565, 3.5671, 10.7565, 3.5671, 10.8663, 3.1612, 10.8663], 'confidence': 0.978, 'span': {'offset': 1459, 'length': 10}}, {'content': 'All', 'polygon': [3.591, 10.7613, 3.6722, 10.7613, 3.6722, 10.8663, 3.591, 10.8663], 'confidence': 0.993, 'span': {'offset': 1470, 'length': 3}}, {'content': 'rights', 'polygon': [3.6961, 10.7613, 3.9062, 10.7613, 3.9062, 10.8663, 3.6961, 10.8663], 'confidence': 0.994, 'span': {'offset': 1474, 'length': 6}}, {'content': 'reserved.', 'polygon': [3.9253, 10.7613, 4.2882, 10.7613, 4.2882, 10.8615, 3.9253, 10.8663], 'confidence': 0.982, 'span': {'offset': 1481, 'length': 9}}], 'lines': [{'content': 'Spa', 'polygon': [2.4927, 1.0217, 3.6913, 1.0026, 3.7056, 1.6185, 2.507, 1.6328], 'spans': [{'offset': 0, 'length': 3}]}, {'content': 'Supplies', 'polygon': [2.6169, 1.7378, 4.9472, 1.7283, 4.9472, 2.3537, 2.6169, 2.3633], 'spans': [{'offset': 4, 'length': 8}]}, {'content': '68 Vroom Street,', 'polygon': [1.3801, 2.6927, 2.4306, 2.6927, 2.4306, 2.8359, 1.3801, 2.8359], 'spans': [{'offset': 13, 'length': 16}]}, {'content': 'Medalia City,', 'polygon': [1.3801, 2.9266, 2.1823, 2.9362, 2.1823, 3.089, 1.3801, 3.0747], 'spans': [{'offset': 30, 'length': 13}]}, {'content': 'MM 88531', 'polygon': [1.3753, 3.1558, 2.0343, 3.1606, 2.0343, 3.2943, 1.3753, 3.2895], 'spans': [{'offset': 44, 'length': 8}]}, {'content': 'Phone: 222-222-9000', 'polygon': [1.3801, 3.49, 2.7649, 3.49, 2.7649, 3.6332, 1.3801, 3.6332], 'spans': [{'offset': 53, 'length': 19}]}, {'content': 'Fax:', 'polygon': [1.3896, 3.6523, 1.6761, 3.6523, 1.6761, 3.8051, 1.3896, 3.8051], 'spans': [{'offset': 73, 'length': 4}]}, {'content': '222-222-9001', 'polygon': [1.8815, 3.6476, 2.7601, 3.6476, 2.7601, 3.8051, 1.8815, 3.8051], 'spans': [{'offset': 78, 'length': 12}]}, {'content': 'INVOICE', 'polygon': [4.9997, 3.6476, 7.5879, 3.638, 7.5927, 4.082, 4.9997, 4.0964], 'spans': [{'offset': 91, 'length': 7}]}, {'content': 'Email: tonsofcars@it.com', 'polygon': [1.3753, 3.829, 3.0419, 3.829, 3.0419, 3.9722, 1.3753, 3.9674], 'spans': [{'offset': 99, 'length': 24}]}, {'content': 'Bill To:', 'polygon': [1.3657, 5.1037, 1.8528, 5.1085, 1.848, 5.2565, 1.3657, 5.2517], 'spans': [{'offset': 124, 'length': 8}]}, {'content': 'Olympic World Hotel.', 'polygon': [2.3876, 5.1085, 3.7008, 5.1037, 3.7056, 5.2708, 2.3876, 5.2756], 'spans': [{'offset': 133, 'length': 20}]}, {'content': '55 Comfort Street', 'polygon': [2.3876, 5.2804, 3.5051, 5.2804, 3.5051, 5.4188, 2.3876, 5.4236], 'spans': [{'offset': 154, 'length': 17}]}, {'content': 'Medalia City,', 'polygon': [2.3829, 5.4332, 3.1899, 5.4427, 3.1899, 5.5955, 2.3829, 5.5907], 'spans': [{'offset': 172, 'length': 13}]}, {'content': 'MM 88531', 'polygon': [2.3876, 5.605, 3.0514, 5.6098, 3.0514, 5.7483, 2.3876, 5.7435], 'spans': [{'offset': 186, 'length': 8}]}, {'content': 'Invoice #:', 'polygon': [1.3801, 5.9488, 2.0199, 5.9488, 2.0199, 6.0825, 1.3801, 6.0777], 'spans': [{'offset': 195, 'length': 10}]}, {'content': 'PLC0920', 'polygon': [2.3924, 5.9488, 2.9798, 5.9488, 2.9798, 6.0825, 2.3924, 6.0729], 'spans': [{'offset': 206, 'length': 7}]}, {'content': 'Invoice Date:', 'polygon': [1.3705, 6.1016, 2.2396, 6.1063, 2.2396, 6.2496, 1.3705, 6.2496], 'spans': [{'offset': 214, 'length': 13}]}, {'content': 'March 2,20X3', 'polygon': [2.3876, 6.1111, 3.2615, 6.1111, 3.2615, 6.2448, 2.3876, 6.2448], 'spans': [{'offset': 228, 'length': 12}]}, {'content': 'Customer ID:', 'polygon': [1.3657, 6.2734, 2.2444, 6.2734, 2.2444, 6.4119, 1.3657, 6.4119], 'spans': [{'offset': 241, 'length': 12}]}, {'content': '124', 'polygon': [2.3924, 6.2782, 2.636, 6.2782, 2.636, 6.4023, 2.3972, 6.4023], 'spans': [{'offset': 254, 'length': 3}]}, {'content': 'Vendor No:', 'polygon': [1.3801, 6.4214, 2.1441, 6.4214, 2.1441, 6.5599, 1.3801, 6.5599], 'spans': [{'offset': 258, 'length': 10}]}, {'content': '15', 'polygon': [2.3781, 6.4262, 2.5309, 6.4262, 2.5309, 6.5456, 2.3829, 6.5456], 'spans': [{'offset': 269, 'length': 2}]}, {'content': 'TO number:', 'polygon': [1.3801, 6.5838, 2.1823, 6.5838, 2.1823, 6.727, 1.3801, 6.727], 'spans': [{'offset': 272, 'length': 10}]}, {'content': 'GSQ0415DB0037', 'polygon': [2.3876, 6.5742, 3.5194, 6.5742, 3.5194, 6.7318, 2.3876, 6.727], 'spans': [{'offset': 283, 'length': 13}]}, {'content': 'Quantity', 'polygon': [0.5444, 6.8082, 1.1031, 6.8034, 1.1031, 6.9562, 0.5444, 6.9562], 'spans': [{'offset': 297, 'length': 8}]}, {'content': 'Items', 'polygon': [1.3371, 6.8129, 1.6857, 6.8129, 1.6904, 6.9371, 1.3371, 6.9371], 'spans': [{'offset': 306, 'length': 5}]}, {'content': 'Units', 'polygon': [1.9197, 6.8082, 2.2539, 6.8082, 2.2587, 6.9418, 1.9197, 6.9371], 'spans': [{'offset': 312, 'length': 5}]}, {'content': 'Descri', 'polygon': [3.0944, 6.8082, 3.5146, 6.8082, 3.5146, 6.9418, 3.0944, 6.9418], 'spans': [{'offset': 318, 'length': 6}]}, {'content': 'Discount %', 'polygon': [4.4124, 6.8034, 5.1239, 6.8034, 5.1239, 6.9418, 4.4124, 6.9418], 'spans': [{'offset': 325, 'length': 10}]}, {'content': 'Taxable', 'polygon': [5.5202, 6.8082, 6.0312, 6.8082, 6.0312, 6.9418, 5.5202, 6.9418], 'spans': [{'offset': 336, 'length': 7}]}, {'content': 'Unit Price', 'polygon': [6.2747, 6.8082, 6.8812, 6.8082, 6.8764, 6.9418, 6.2747, 6.9418], 'spans': [{'offset': 344, 'length': 10}]}, {'content': 'Total', 'polygon': [7.2584, 6.8129, 7.5975, 6.8082, 7.5975, 6.9371, 7.2632, 6.9371], 'spans': [{'offset': 355, 'length': 5}]}, {'content': '14', 'polygon': [0.7593, 7.023, 0.893, 7.0182, 0.8978, 7.1376, 0.7593, 7.1376], 'spans': [{'offset': 361, 'length': 2}]}, {'content': 'MTBL', 'polygon': [1.189, 6.9896, 1.552, 6.9991, 1.552, 7.1662, 1.1843, 7.1615], 'spans': [{'offset': 364, 'length': 4}]}, {'content': '1', 'polygon': [2.0629, 7.0326, 2.1154, 7.0278, 2.1154, 7.128, 2.0677, 7.128], 'spans': [{'offset': 369, 'length': 1}]}, {'content': 'Massage tables', 'polygon': [2.3208, 7.0182, 3.2615, 7.0182, 3.2615, 7.1567, 2.3208, 7.1519], 'spans': [{'offset': 371, 'length': 14}]}, {'content': 'N/A', 'polygon': [4.8612, 6.9991, 5.1621, 6.9896, 5.1669, 7.1615, 4.8612, 7.1615], 'spans': [{'offset': 386, 'length': 3}]}, {'content': 'N/A', 'polygon': [5.8306, 6.9944, 6.0789, 6.9944, 6.0789, 7.1567, 5.8258, 7.1567], 'spans': [{'offset': 390, 'length': 3}]}, {'content': '$2,300', 'polygon': [6.461, 7.0087, 6.8764, 7.0087, 6.8812, 7.1471, 6.4657, 7.1519], 'spans': [{'offset': 394, 'length': 6}]}, {'content': '$32,200', 'polygon': [7.3874, 7.0039, 7.8697, 7.0039, 7.8697, 7.1662, 7.3874, 7.1662], 'spans': [{'offset': 401, 'length': 7}]}, {'content': '-', 'polygon': [1.8862, 7.0278, 1.8862, 7.0994, 1.8385, 7.0946, 1.8433, 7.0278], 'spans': [{'offset': 409, 'length': 1}]}, {'content': '14', 'polygon': [0.764, 7.2713, 0.893, 7.2713, 0.8978, 7.3859, 0.7688, 7.3811], 'spans': [{'offset': 411, 'length': 2}]}, {'content': 'TH', 'polygon': [1.2034, 7.2378, 1.3944, 7.2378, 1.3944, 7.4049, 1.1986, 7.4002], 'spans': [{'offset': 414, 'length': 2}]}, {'content': '1', 'polygon': [2.0629, 7.2378, 2.1154, 7.2331, 2.1202, 7.3381, 2.0629, 7.3333], 'spans': [{'offset': 417, 'length': 1}]}, {'content': 'Towel heaters', 'polygon': [2.3065, 7.2283, 3.1708, 7.2283, 3.1708, 7.3429, 2.3065, 7.3429], 'spans': [{'offset': 419, 'length': 13}]}, {'content': '-', 'polygon': [1.8815, 7.2426, 1.8815, 7.3142, 1.8385, 7.3095, 1.8433, 7.2426], 'spans': [{'offset': 433, 'length': 1}]}, {'content': 'N/A', 'polygon': [4.8899, 7.2474, 5.1525, 7.2426, 5.1573, 7.4049, 4.8851, 7.4049], 'spans': [{'offset': 435, 'length': 3}]}, {'content': 'N/A', 'polygon': [5.8258, 7.2474, 6.0789, 7.2474, 6.0789, 7.4049, 5.8258, 7.4002], 'spans': [{'offset': 439, 'length': 3}]}, {'content': '$768', 'polygon': [6.5612, 7.2617, 6.8669, 7.2569, 6.8716, 7.4002, 6.5708, 7.4002], 'spans': [{'offset': 443, 'length': 4}]}, {'content': '$10,752', 'polygon': [7.3826, 7.2522, 7.8649, 7.2522, 7.8649, 7.4049, 7.3826, 7.4049], 'spans': [{'offset': 448, 'length': 7}]}, {'content': '7', 'polygon': [0.8166, 7.4861, 0.8978, 7.4861, 0.8978, 7.6007, 0.8166, 7.6007], 'spans': [{'offset': 456, 'length': 1}]}, {'content': 'EWCH', 'polygon': [1.1986, 7.4861, 1.6045, 7.4909, 1.6045, 7.6246, 1.1986, 7.6198], 'spans': [{'offset': 458, 'length': 4}]}, {'content': 'I', 'polygon': [1.848, 7.4622, 1.891, 7.4622, 1.891, 7.5291, 1.8433, 7.5195], 'spans': [{'offset': 463, 'length': 1}]}, {'content': '1', 'polygon': [2.0677, 7.467, 2.1154, 7.4622, 2.1154, 7.5625, 2.0677, 7.5625], 'spans': [{'offset': 465, 'length': 1}]}, {'content': 'Entry-way chairs', 'polygon': [2.3685, 7.4527, 3.3093, 7.4479, 3.3093, 7.5911, 2.3685, 7.5911], 'spans': [{'offset': 467, 'length': 16}]}, {'content': 'N/A', 'polygon': [4.8756, 7.467, 5.0952, 7.467, 5.1, 7.6341, 4.8708, 7.6341], 'spans': [{'offset': 484, 'length': 3}]}, {'content': 'N/A', 'polygon': [5.8306, 7.4718, 6.0789, 7.4718, 6.0789, 7.6293, 5.8258, 7.6293], 'spans': [{'offset': 488, 'length': 3}]}, {'content': '$1,136', 'polygon': [6.4705, 7.4718, 6.8955, 7.467, 6.9003, 7.6341, 6.4705, 7.6389], 'spans': [{'offset': 492, 'length': 6}]}, {'content': '$7,952', 'polygon': [7.4542, 7.4957, 7.8649, 7.4957, 7.8649, 7.6293, 7.4542, 7.6293], 'spans': [{'offset': 499, 'length': 6}]}, {'content': '14', 'polygon': [0.764, 7.7248, 0.893, 7.7248, 0.9025, 7.849, 0.7688, 7.8442], 'spans': [{'offset': 506, 'length': 2}]}, {'content': 'WAX', 'polygon': [1.1699, 7.7296, 1.5138, 7.7296, 1.5138, 7.8537, 1.1747, 7.849], 'spans': [{'offset': 509, 'length': 3}]}, {'content': '1', 'polygon': [2.0581, 7.701, 2.1154, 7.6962, 2.1202, 7.7917, 2.0629, 7.7964], 'spans': [{'offset': 513, 'length': 1}]}, {'content': 'Wax heaters', 'polygon': [2.3638, 7.6914, 3.0896, 7.6914, 3.0896, 7.8155, 2.3638, 7.8108], 'spans': [{'offset': 515, 'length': 11}]}, {'content': 'N/A', 'polygon': [4.8851, 7.7248, 5.1907, 7.7296, 5.1907, 7.8585, 4.8899, 7.849], 'spans': [{'offset': 527, 'length': 3}]}, {'content': 'N/A', 'polygon': [5.8354, 7.7153, 6.0837, 7.7105, 6.0885, 7.8681, 5.8354, 7.8681], 'spans': [{'offset': 531, 'length': 3}]}, {'content': '$987', 'polygon': [6.5612, 7.7248, 6.8812, 7.7248, 6.886, 7.8633, 6.566, 7.8585], 'spans': [{'offset': 535, 'length': 4}]}, {'content': '$13,818', 'polygon': [7.3921, 7.7153, 7.8744, 7.7105, 7.8744, 7.8681, 7.3921, 7.8728], 'spans': [{'offset': 540, 'length': 7}]}, {'content': '16', 'polygon': [0.7593, 7.9588, 0.8978, 7.9588, 0.8978, 8.0781, 0.764, 8.0734], 'spans': [{'offset': 548, 'length': 2}]}, {'content': 'SLOU', 'polygon': [1.2281, 7.9758, 1.5527, 7.9758, 1.5527, 8.0697, 1.2281, 8.0697], 'spans': [{'offset': 551, 'length': 4}]}, {'content': '1', 'polygon': [2.0581, 7.9253, 2.1154, 7.9253, 2.1202, 8.0208, 2.0629, 8.0208], 'spans': [{'offset': 556, 'length': 1}]}, {'content': 'Spa loungers', 'polygon': [2.3638, 7.9158, 3.123, 7.9206, 3.123, 8.059, 2.3638, 8.0543], 'spans': [{'offset': 558, 'length': 12}]}, {'content': 'N/A!', 'polygon': [4.8851, 7.954, 5.186, 7.9588, 5.1907, 8.0829, 4.8851, 8.0781], 'spans': [{'offset': 571, 'length': 4}]}, {'content': 'N/A', 'polygon': [5.8603, 7.976, 6.0593, 7.976, 6.0593, 8.0697, 5.8603, 8.0697], 'spans': [{'offset': 576, 'length': 3}]}, {'content': '$979', 'polygon': [6.5421, 7.9349, 6.8812, 7.9301, 6.886, 8.0972, 6.5469, 8.102], 'spans': [{'offset': 580, 'length': 4}]}, {'content': '$15,616', 'polygon': [7.3921, 7.9588, 7.8697, 7.954, 7.8697, 8.0877, 7.3921, 8.0924], 'spans': [{'offset': 585, 'length': 7}]}, {'content': '4', 'polygon': [0.7831, 8.1832, 0.8691, 8.1832, 0.8691, 8.293, 0.7831, 8.293], 'spans': [{'offset': 593, 'length': 1}]}, {'content': 'HTUB', 'polygon': [1.1413, 8.1832, 1.5663, 8.1927, 1.5615, 8.3121, 1.1413, 8.3025], 'spans': [{'offset': 595, 'length': 4}]}, {'content': '1', 'polygon': [2.0581, 8.1545, 2.1154, 8.1545, 2.1154, 8.25, 2.0629, 8.25], 'spans': [{'offset': 600, 'length': 1}]}, {'content': 'Hot tub', 'polygon': [2.3781, 8.1497, 2.8031, 8.1497, 2.8031, 8.2643, 2.3829, 8.2691], 'spans': [{'offset': 602, 'length': 7}]}, {'content': 'N/A', 'polygon': [4.9203, 8.2076, 5.1193, 8.2076, 5.1193, 8.3014, 4.9203, 8.3014], 'spans': [{'offset': 610, 'length': 3}]}, {'content': 'N/A', 'polygon': [5.8354, 8.1688, 6.098, 8.1736, 6.098, 8.3312, 5.8306, 8.3264], 'spans': [{'offset': 614, 'length': 3}]}, {'content': '$50,613', 'polygon': [6.3893, 8.1879, 6.886, 8.1832, 6.886, 8.3168, 6.3893, 8.3216], 'spans': [{'offset': 618, 'length': 7}]}, {'content': '$202,453', 'polygon': [7.3205, 8.1879, 7.8553, 8.1879, 7.8553, 8.3168, 7.3205, 8.3168], 'spans': [{'offset': 626, 'length': 8}]}, {'content': '12', 'polygon': [0.7593, 8.4123, 0.9025, 8.4123, 0.9025, 8.5317, 0.764, 8.5221], 'spans': [{'offset': 635, 'length': 2}]}, {'content': 'PEDC', 'polygon': [1.2252, 8.4229, 1.5576, 8.4229, 1.5576, 8.5167, 1.2252, 8.5167], 'spans': [{'offset': 638, 'length': 4}]}, {'content': 'I', 'polygon': [1.8385, 8.4171, 1.8862, 8.4171, 1.8862, 8.4887, 1.8385, 8.4887], 'spans': [{'offset': 643, 'length': 1}]}, {'content': '1', 'polygon': [2.0581, 8.3885, 2.1154, 8.3885, 2.1202, 8.4839, 2.0629, 8.4839], 'spans': [{'offset': 645, 'length': 1}]}, {'content': 'Pedicure chair', 'polygon': [2.3609, 8.3966, 3.1508, 8.3966, 3.1508, 8.4889, 2.3609, 8.4889], 'spans': [{'offset': 647, 'length': 14}]}, {'content': 'N/A', 'polygon': [4.8803, 8.4076, 5.0952, 8.4028, 5.1, 8.5651, 4.8756, 8.5651], 'spans': [{'offset': 662, 'length': 3}]}, {'content': 'N/A', 'polygon': [5.8306, 8.4076, 6.0789, 8.4076, 6.0789, 8.5603, 5.8306, 8.5603], 'spans': [{'offset': 666, 'length': 3}]}, {'content': '$3,456', 'polygon': [6.4562, 8.4171, 6.8669, 8.4171, 6.8669, 8.5508, 6.461, 8.5556], 'spans': [{'offset': 670, 'length': 6}]}, {'content': '$41,472', 'polygon': [7.3921, 8.4171, 7.8649, 8.4171, 7.8649, 8.5508, 7.3921, 8.5508], 'spans': [{'offset': 677, 'length': 7}]}, {'content': '4', 'polygon': [0.7831, 8.6415, 0.8691, 8.6415, 0.8691, 8.7561, 0.7831, 8.7561], 'spans': [{'offset': 685, 'length': 1}]}, {'content': 'DRY', 'polygon': [1.189, 8.6319, 1.4851, 8.6319, 1.4899, 8.7656, 1.1938, 8.7609], 'spans': [{'offset': 687, 'length': 3}]}, {'content': 'I', 'polygon': [1.8433, 8.6319, 1.891, 8.6319, 1.8862, 8.7083, 1.8433, 8.7036], 'spans': [{'offset': 691, 'length': 1}]}, {'content': '2', 'polygon': [2.0438, 8.6224, 2.125, 8.6176, 2.125, 8.7179, 2.0438, 8.7131], 'spans': [{'offset': 693, 'length': 1}]}, {'content': 'Manicure and Pedicure dryer', 'polygon': [2.3605, 8.6283, 3.9563, 8.6283, 3.9563, 8.7453, 2.3605, 8.7453], 'spans': [{'offset': 695, 'length': 27}]}, {'content': 'N/A', 'polygon': [4.8899, 8.6367, 5.1, 8.6367, 5.1, 8.7943, 4.8899, 8.7943], 'spans': [{'offset': 723, 'length': 3}]}, {'content': 'N/A', 'polygon': [5.8354, 8.6415, 6.1028, 8.6367, 6.1028, 8.7943, 5.8354, 8.7943], 'spans': [{'offset': 727, 'length': 3}]}, {'content': '$1,456', 'polygon': [6.461, 8.6415, 6.8621, 8.6463, 6.8669, 8.7847, 6.4657, 8.7847], 'spans': [{'offset': 731, 'length': 6}]}, {'content': '$5,824', 'polygon': [7.459, 8.651, 7.8697, 8.651, 7.8697, 8.7799, 7.459, 8.7799], 'spans': [{'offset': 738, 'length': 6}]}, {'content': '10', 'polygon': [0.7545, 8.8516, 0.9121, 8.8516, 0.9121, 8.9948, 0.7497, 8.9948], 'spans': [{'offset': 745, 'length': 2}]}, {'content': 'MANI', 'polygon': [1.2034, 8.8659, 1.5281, 8.8611, 1.5281, 8.9948, 1.2034, 8.9852], 'spans': [{'offset': 748, 'length': 4}]}, {'content': '1', 'polygon': [1.8433, 8.842, 1.8958, 8.8468, 1.8958, 8.9232, 1.8385, 8.9136], 'spans': [{'offset': 753, 'length': 1}]}, {'content': '1', 'polygon': [2.0629, 8.8516, 2.125, 8.8516, 2.125, 8.9805, 2.0629, 8.9757], 'spans': [{'offset': 755, 'length': 1}]}, {'content': 'Manicure tables', 'polygon': [2.3605, 8.8591, 3.2279, 8.8591, 3.2279, 8.9514, 2.3605, 8.9514], 'spans': [{'offset': 757, 'length': 15}]}, {'content': 'N/A', 'polygon': [4.909, 8.8611, 5.1334, 8.8563, 5.1334, 9.0187, 4.9042, 9.0187], 'spans': [{'offset': 773, 'length': 3}]}, {'content': 'I', 'polygon': [5.1382, 8.842, 5.1955, 8.842, 5.1907, 8.9232, 5.1382, 8.9232], 'spans': [{'offset': 777, 'length': 1}]}, {'content': 'N/A ;', 'polygon': [5.8354, 8.8659, 6.1601, 8.8707, 6.1553, 9.0091, 5.8354, 9.0234], 'spans': [{'offset': 779, 'length': 5}]}, {'content': '$2,488', 'polygon': [6.461, 8.8754, 6.8621, 8.8754, 6.8669, 9.0139, 6.4657, 9.0139], 'spans': [{'offset': 785, 'length': 6}]}, {'content': '$24,880', 'polygon': [7.3874, 8.8659, 7.8744, 8.8707, 7.8744, 9.0282, 7.3874, 9.0282], 'spans': [{'offset': 792, 'length': 7}]}, {'content': '-', 'polygon': [1.8862, 8.9327, 1.8815, 9.0139, 1.8385, 9.0091, 1.848, 8.928], 'spans': [{'offset': 800, 'length': 1}]}, {'content': '-', 'polygon': [1.1699, 9.1523, 1.1747, 9.2478, 1.127, 9.2478, 1.1222, 9.1523], 'spans': [{'offset': 802, 'length': 1}]}, {'content': 'I', 'polygon': [2.2874, 9.1523, 2.3256, 9.1523, 2.3256, 9.2383, 2.2874, 9.2383], 'spans': [{'offset': 804, 'length': 1}]}, {'content': 'I', 'polygon': [5.1573, 9.1428, 5.2051, 9.1476, 5.2003, 9.2478, 5.1573, 9.2478], 'spans': [{'offset': 806, 'length': 1}]}, {'content': '-', 'polygon': [1.8862, 9.1571, 1.8862, 9.2383, 1.8385, 9.2383, 1.8385, 9.1571], 'spans': [{'offset': 808, 'length': 1}]}, {'content': 'Total', 'polygon': [6.5421, 9.3338, 6.8907, 9.3338, 6.8955, 9.4865, 6.5421, 9.4913], 'spans': [{'offset': 810, 'length': 5}]}, {'content': '$354,967', 'polygon': [7.3396, 9.3433, 7.8792, 9.3481, 7.8744, 9.4865, 7.3396, 9.4818], 'spans': [{'offset': 816, 'length': 8}]}, {'content': 'DISCLAIMER: The information contained herein is of a general nature and was created for training purposes and is not intended to', 'polygon': [0.2626, 9.7444, 8.309, 9.7444, 8.309, 9.9019, 0.2626, 9.8971], 'spans': [{'offset': 825, 'length': 128}]}, {'content': 'address the circumstances of any particular audit engagement. This training is a work of fiction. Any names of persons,', 'polygon': [0.5969, 9.9162, 7.9508, 9.9162, 7.9508, 10.0786, 0.5969, 10.0738], 'spans': [{'offset': 954, 'length': 119}]}, {'content': 'companies, events or incidents, are fictitious. Any resemblance to actual persons, living or dead, companies or actual events is', 'polygon': [0.3868, 10.0881, 8.1848, 10.0881, 8.1848, 10.2409, 0.3868, 10.2409], 'spans': [{'offset': 1074, 'length': 128}]}, {'content': 'purely coincidental.', 'polygon': [3.6722, 10.26, 4.8803, 10.2552, 4.8803, 10.4032, 3.677, 10.4128], 'spans': [{'offset': 1203, 'length': 20}]}, {'content': 'Internal use only', 'polygon': [0.9646, 10.5321, 1.6045, 10.5369, 1.5997, 10.6372, 0.9646, 10.6276], 'spans': [{'offset': 1224, 'length': 17}]}, {'content': '@ 2022 KPMG LLP, a Delaware limited liability partnership and a member firm of the KPMG global organization of independent member firms affiliated with KPMG', 'polygon': [0.9694, 10.6419, 7.0006, 10.6419, 7.0006, 10.7517, 0.9694, 10.7517], 'spans': [{'offset': 1242, 'length': 156}]}, {'content': 'International Limited, a private English company limited by guarantee. All rights reserved.', 'polygon': [0.9646, 10.7517, 4.2882, 10.7565, 4.2882, 10.8663, 0.9646, 10.8615], 'spans': [{'offset': 1399, 'length': 91}]}], 'spans': [{'offset': 0, 'length': 1490}]}\n"
     ]
    }
   ],
   "source": [
    "for page in adi_response.pages:\n",
    "    print(page)"
   ]
  },
  {
   "cell_type": "code",
   "execution_count": 125,
   "id": "b4c1ec7f-2508-467f-8cda-90457fb4cefc",
   "metadata": {},
   "outputs": [],
   "source": [
    "page=adi_response.pages[0]\n",
    "lines=page['lines']"
   ]
  },
  {
   "cell_type": "code",
   "execution_count": 113,
   "id": "e55a2992-925a-4e65-b545-a7e5e7919aaa",
   "metadata": {},
   "outputs": [
    {
     "data": {
      "text/plain": [
       "dict_keys(['pageNumber', 'angle', 'width', 'height', 'unit', 'words', 'lines', 'spans'])"
      ]
     },
     "execution_count": 113,
     "metadata": {},
     "output_type": "execute_result"
    }
   ],
   "source": [
    "page.keys()"
   ]
  },
  {
   "cell_type": "code",
   "execution_count": 116,
   "id": "00849012-124d-4210-a58f-3ba1ca222ea1",
   "metadata": {},
   "outputs": [],
   "source": [
    "# for line in page['lines']:\n",
    "    # "
   ]
  },
  {
   "cell_type": "code",
   "execution_count": 117,
   "id": "9399a315-8ac9-4909-b59c-60e2bcd80396",
   "metadata": {},
   "outputs": [],
   "source": [
    "line=page['lines'][0]"
   ]
  },
  {
   "cell_type": "code",
   "execution_count": 120,
   "id": "ae697dcf-befb-4f77-8e71-11126e99ecd6",
   "metadata": {},
   "outputs": [
    {
     "name": "stdout",
     "output_type": "stream",
     "text": [
      "{'content': 'Spa', 'polygon': [2.4927, 1.0217, 3.6913, 1.0026, 3.7056, 1.6185, 2.507, 1.6328], 'spans': [{'offset': 0, 'length': 3}]}\n"
     ]
    }
   ],
   "source": [
    "print(line)"
   ]
  },
  {
   "cell_type": "code",
   "execution_count": 119,
   "id": "ab8fe477-af0d-4b28-80a3-5bf9f9273bc3",
   "metadata": {},
   "outputs": [
    {
     "data": {
      "text/plain": [
       "'Spa'"
      ]
     },
     "execution_count": 119,
     "metadata": {},
     "output_type": "execute_result"
    }
   ],
   "source": [
    "line.content"
   ]
  },
  {
   "cell_type": "code",
   "execution_count": 121,
   "id": "b4fc3a0e-8f9e-4a81-9b0f-99fb9c0804ec",
   "metadata": {},
   "outputs": [
    {
     "data": {
      "text/plain": [
       "{'content': 'Supplies', 'polygon': [2.6169, 1.7378, 4.9472, 1.7283, 4.9472, 2.3537, 2.6169, 2.3633], 'spans': [{'offset': 4, 'length': 8}]}"
      ]
     },
     "execution_count": 121,
     "metadata": {},
     "output_type": "execute_result"
    }
   ],
   "source": [
    "page['lines'][1]"
   ]
  },
  {
   "cell_type": "code",
   "execution_count": 129,
   "id": "54d80e80-307e-432d-a92e-7b2ad7e8beaa",
   "metadata": {},
   "outputs": [],
   "source": [
    "content=\"\"\n",
    "\n",
    "for line in lines:\n",
    "    content+=\"\\n\"+line['content']"
   ]
  },
  {
   "cell_type": "code",
   "execution_count": 130,
   "id": "774e03fe-e54f-4d75-b211-16d1e36bed2c",
   "metadata": {},
   "outputs": [
    {
     "data": {
      "text/plain": [
       "'\\nSpa\\nSupplies\\n68 Vroom Street,\\nMedalia City,\\nMM 88531\\nPhone: 222-222-9000\\nFax:\\n222-222-9001\\nINVOICE\\nEmail: tonsofcars@it.com\\nBill To:\\nOlympic World Hotel.\\n55 Comfort Street\\nMedalia City,\\nMM 88531\\nInvoice #:\\nPLC0920\\nInvoice Date:\\nMarch 2,20X3\\nCustomer ID:\\n124\\nVendor No:\\n15\\nTO number:\\nGSQ0415DB0037\\nQuantity\\nItems\\nUnits\\nDescri\\nDiscount %\\nTaxable\\nUnit Price\\nTotal\\n14\\nMTBL\\n1\\nMassage tables\\nN/A\\nN/A\\n$2,300\\n$32,200\\n-\\n14\\nTH\\n1\\nTowel heaters\\n-\\nN/A\\nN/A\\n$768\\n$10,752\\n7\\nEWCH\\nI\\n1\\nEntry-way chairs\\nN/A\\nN/A\\n$1,136\\n$7,952\\n14\\nWAX\\n1\\nWax heaters\\nN/A\\nN/A\\n$987\\n$13,818\\n16\\nSLOU\\n1\\nSpa loungers\\nN/A!\\nN/A\\n$979\\n$15,616\\n4\\nHTUB\\n1\\nHot tub\\nN/A\\nN/A\\n$50,613\\n$202,453\\n12\\nPEDC\\nI\\n1\\nPedicure chair\\nN/A\\nN/A\\n$3,456\\n$41,472\\n4\\nDRY\\nI\\n2\\nManicure and Pedicure dryer\\nN/A\\nN/A\\n$1,456\\n$5,824\\n10\\nMANI\\n1\\n1\\nManicure tables\\nN/A\\nI\\nN/A ;\\n$2,488\\n$24,880\\n-\\n-\\nI\\nI\\n-\\nTotal\\n$354,967\\nDISCLAIMER: The information contained herein is of a general nature and was created for training purposes and is not intended to\\naddress the circumstances of any particular audit engagement. This training is a work of fiction. Any names of persons,\\ncompanies, events or incidents, are fictitious. Any resemblance to actual persons, living or dead, companies or actual events is\\npurely coincidental.\\nInternal use only\\n@ 2022 KPMG LLP, a Delaware limited liability partnership and a member firm of the KPMG global organization of independent member firms affiliated with KPMG\\nInternational Limited, a private English company limited by guarantee. All rights reserved.'"
      ]
     },
     "execution_count": 130,
     "metadata": {},
     "output_type": "execute_result"
    }
   ],
   "source": [
    "content"
   ]
  },
  {
   "cell_type": "code",
   "execution_count": null,
   "id": "e98178cd-90a6-4108-bb53-cdd3723e1b25",
   "metadata": {},
   "outputs": [],
   "source": []
  }
 ],
 "metadata": {
  "kernelspec": {
   "display_name": "Python 3 (ipykernel)",
   "language": "python",
   "name": "python3"
  },
  "language_info": {
   "codemirror_mode": {
    "name": "ipython",
    "version": 3
   },
   "file_extension": ".py",
   "mimetype": "text/x-python",
   "name": "python",
   "nbconvert_exporter": "python",
   "pygments_lexer": "ipython3",
   "version": "3.11.7"
  }
 },
 "nbformat": 4,
 "nbformat_minor": 5
}
