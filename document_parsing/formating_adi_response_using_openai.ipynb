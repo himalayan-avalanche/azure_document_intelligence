{
 "cells": [
  {
   "cell_type": "code",
   "execution_count": 64,
   "id": "271ac7cb-435f-430e-9a69-d54e0a7088e9",
   "metadata": {},
   "outputs": [],
   "source": [
    "import os\n",
    "import time\n",
    "import numpy as np\n",
    "import openai\n",
    "from importlib import reload\n",
    "import sys\n",
    "from openai import OpenAI\n",
    "\n",
    "import baseDocumentParser\n",
    "reload(baseDocumentParser)\n",
    "from baseDocumentParser import *\n",
    "\n",
    "import basePromptDetails\n",
    "reload(basePromptDetails)\n",
    "from basePromptDetails import promptDetails\n",
    "\n",
    "from azure.core.credentials import AzureKeyCredential\n",
    "from azure.ai.documentintelligence import DocumentIntelligenceClient\n",
    "\n",
    "documentParser=documentParser()\n",
    "promptDetails=promptDetails()"
   ]
  },
  {
   "cell_type": "code",
   "execution_count": 45,
   "id": "3811b823-0ee1-4def-bc88-b6a1ab9cfba2",
   "metadata": {},
   "outputs": [
    {
     "data": {
      "text/plain": [
       "'/Users/ashwini/Desktop/stuff/notebooks/adi'"
      ]
     },
     "execution_count": 45,
     "metadata": {},
     "output_type": "execute_result"
    }
   ],
   "source": [
    "import os\n",
    "os.getcwd()"
   ]
  },
  {
   "cell_type": "markdown",
   "id": "1cd289da-bda8-435f-8590-5b1d0a55e6a7",
   "metadata": {},
   "source": [
    "#### path of sample invoice document"
   ]
  },
  {
   "cell_type": "code",
   "execution_count": 15,
   "id": "2a3cccc5-bd6c-4000-983c-4eaeb4163616",
   "metadata": {},
   "outputs": [],
   "source": [
    "file_name=\"./uploads/Sample_Invoice.pdf\""
   ]
  },
  {
   "cell_type": "markdown",
   "id": "a9d9a6cf-baad-4dcd-80a8-a68e6990e4b8",
   "metadata": {},
   "source": [
    "#### Specify document details: document type, short description, and data elements to be extracted"
   ]
  },
  {
   "cell_type": "code",
   "execution_count": 16,
   "id": "beca9ca2-be4d-4ef0-9a00-aa04e585f504",
   "metadata": {},
   "outputs": [],
   "source": [
    "document_type_name=\"Invoice\"\n",
    "document_type_description=\"\"\"An invoice is a formal document issued by a seller to a buyer, detailing a transaction. It outlines the goods or services provided, their quantities, unit prices, and the total amount owed. Key data elements in an invoice include the invoice number, issue date, buyer and seller contact details, item descriptions, unit prices, taxes, discounts, payment terms, and the total payable amount. The primary purpose of an invoice is to request payment, provide a record of the transaction, and facilitate accounting and tax reporting for both parties involved in the business transaction.\"\"\"\n",
    "data_elements=\"\"\"Invoice Number, Invoice Date, Supplier Name, Buyer Name, Item Description, Quantity, Unit Price, Total Amount, Tax Amount, Payment Terms\"\"\""
   ]
  },
  {
   "cell_type": "code",
   "execution_count": 17,
   "id": "de01e977-08b5-4b95-872e-13918a73a1d7",
   "metadata": {},
   "outputs": [
    {
     "data": {
      "text/plain": [
       "'Invoice Number\\nInvoice Date\\nSupplier Name\\nBuyer Name\\nItem Description\\nQuantity\\nUnit Price\\nTotal Amount\\nTax Amount\\nPayment Terms'"
      ]
     },
     "execution_count": 17,
     "metadata": {},
     "output_type": "execute_result"
    }
   ],
   "source": [
    "data_elements_str=\"\\n\".join(data_elements.split(\", \"))\n",
    "data_elements_str"
   ]
  },
  {
   "cell_type": "markdown",
   "id": "2d7f6c21-c90a-4b4e-8193-37d96dc67524",
   "metadata": {},
   "source": [
    "#### Call ADI parser to extract document contents"
   ]
  },
  {
   "cell_type": "code",
   "execution_count": 20,
   "id": "ea456f6c-8383-47e3-9df3-d19ecebbeb94",
   "metadata": {},
   "outputs": [],
   "source": [
    "file_data = open(file_name, \"rb\")\n",
    "model_id=\"prebuilt-invoice\"\n",
    "adi_response=documentParser.get_azure_parsed_contents(file_data, model_id)"
   ]
  },
  {
   "cell_type": "code",
   "execution_count": 8,
   "id": "8799af8e-09ab-41fb-92c6-24ce94836ac9",
   "metadata": {},
   "outputs": [],
   "source": [
    "### Openai call to adi parsed document\n",
    "### need metaprompt, parsed ADI content"
   ]
  },
  {
   "cell_type": "code",
   "execution_count": 21,
   "id": "271084cb-e892-4817-9562-b8c01b6e55a7",
   "metadata": {},
   "outputs": [],
   "source": [
    "table_level_data=documentParser.get_table_contents(adi_response)\n",
    "document_level_data=documentParser.get_document_contents(adi_response)"
   ]
  },
  {
   "cell_type": "code",
   "execution_count": 22,
   "id": "00766187-144a-449f-bbe6-1d79c7bfdfd5",
   "metadata": {},
   "outputs": [],
   "source": [
    "doc_json = {\"paragraph_data\": document_level_data, \"table_data\" : table_level_data}"
   ]
  },
  {
   "cell_type": "code",
   "execution_count": null,
   "id": "754f7fc5-a5c0-41b4-9b3e-fc2b50c2c999",
   "metadata": {},
   "outputs": [],
   "source": [
    "#### OpenAI api call to parse the document level data elements"
   ]
  },
  {
   "cell_type": "code",
   "execution_count": 24,
   "id": "8dd9562a-6672-4626-861e-bdd23e299a79",
   "metadata": {},
   "outputs": [],
   "source": [
    "prompts_details=promptDetails.get_metaprompt()\n",
    "system_prompt_message=prompts_details['system_prompt']\n",
    "model=\"gpt-4o\"\n",
    "response_format=\"json_object\"\n",
    "\n",
    "user_prompt_message = f\"\"\"**Document Type Details:** \n",
    "                            \\n Document Type: {document_type_name} \n",
    "                            \\n Document Description:{document_type_description}\n",
    "                            \\n**Data Elements for Extraction:** \\n{data_elements_str} \n",
    "                            \\n\\n**Document Content:** \\n{json.dumps(doc_json)}\"\"\"\n",
    "\n",
    "messages = [\n",
    "    {\"role\": \"system\", \"content\": \"You are a data extractor expert for various documents types and various content type\" + system_prompt_message},\n",
    "    {\"role\": \"user\", \"content\": user_prompt_message},\n",
    "]"
   ]
  },
  {
   "cell_type": "code",
   "execution_count": 27,
   "id": "2e00595a-f6de-4b7b-b1ff-51d3e19dc12e",
   "metadata": {},
   "outputs": [],
   "source": [
    "status, openai_response=documentParser.get_openai_formatted_response(messages=messages)\n",
    "response_json=documentParser.json_post_process(openai_response)"
   ]
  },
  {
   "cell_type": "code",
   "execution_count": 28,
   "id": "145e9ed8-68c2-4754-a730-43bdf4b43db6",
   "metadata": {
    "scrolled": true
   },
   "outputs": [],
   "source": []
  },
  {
   "cell_type": "markdown",
   "id": "561e4e77-7508-4718-abe7-11efc982019b",
   "metadata": {},
   "source": [
    "#### Parse the document details to paragraph and table dataframes"
   ]
  },
  {
   "cell_type": "code",
   "execution_count": 46,
   "id": "36e5fbf9-2958-444b-a9cc-1a048069b2c9",
   "metadata": {},
   "outputs": [
    {
     "data": {
      "text/plain": [
       "{'Quantity': 'Quantity',\n",
       " 'Items': 'n/a',\n",
       " 'Units': 'n/a',\n",
       " 'Descri': 'Item Description',\n",
       " 'Discount %': 'n/a',\n",
       " 'Taxable': 'Tax Amount',\n",
       " 'Unit Price': 'Unit Price',\n",
       " 'Total': 'Total Amount'}"
      ]
     },
     "execution_count": 46,
     "metadata": {},
     "output_type": "execute_result"
    }
   ],
   "source": [
    "table_col_names_str=\"\\n\".join(documentParser.get_table_col_names(doc_json))\n",
    "\n",
    "message_col_names=promptDetails.get_openai_column_mapped_names_message(document_type_name, document_type_description, data_elements_str, table_col_names_str)\n",
    "status, openai_response_col_names=documentParser.get_openai_formatted_response(messages=message_col_names)\n",
    "\n",
    "table_cols_to_data_elements_dict=documentParser.json_post_process(openai_response_col_names)\n",
    "\n",
    "table_cols_to_data_elements_dict"
   ]
  },
  {
   "cell_type": "code",
   "execution_count": 51,
   "id": "7827511b-a30c-4ce7-9f90-e8bbfe7c323f",
   "metadata": {},
   "outputs": [
    {
     "data": {
      "text/html": [
       "<div>\n",
       "<style scoped>\n",
       "    .dataframe tbody tr th:only-of-type {\n",
       "        vertical-align: middle;\n",
       "    }\n",
       "\n",
       "    .dataframe tbody tr th {\n",
       "        vertical-align: top;\n",
       "    }\n",
       "\n",
       "    .dataframe thead th {\n",
       "        text-align: right;\n",
       "    }\n",
       "</style>\n",
       "<table border=\"1\" class=\"dataframe\">\n",
       "  <thead>\n",
       "    <tr style=\"text-align: right;\">\n",
       "      <th></th>\n",
       "      <th>data element</th>\n",
       "      <th>data value</th>\n",
       "    </tr>\n",
       "  </thead>\n",
       "  <tbody>\n",
       "    <tr>\n",
       "      <th>0</th>\n",
       "      <td>Supplier Name</td>\n",
       "      <td>Spa Supplies</td>\n",
       "    </tr>\n",
       "    <tr>\n",
       "      <th>1</th>\n",
       "      <td>Buyer Name</td>\n",
       "      <td>Olympic World Hotel.</td>\n",
       "    </tr>\n",
       "    <tr>\n",
       "      <th>2</th>\n",
       "      <td>Invoice Date</td>\n",
       "      <td>2020-03-02</td>\n",
       "    </tr>\n",
       "    <tr>\n",
       "      <th>3</th>\n",
       "      <td>Invoice Number</td>\n",
       "      <td>PLC0920</td>\n",
       "    </tr>\n",
       "    <tr>\n",
       "      <th>4</th>\n",
       "      <td>Total Amount</td>\n",
       "      <td>$354,967.00</td>\n",
       "    </tr>\n",
       "  </tbody>\n",
       "</table>\n",
       "</div>"
      ],
      "text/plain": [
       "     data element            data value\n",
       "0   Supplier Name          Spa Supplies\n",
       "1      Buyer Name  Olympic World Hotel.\n",
       "2    Invoice Date            2020-03-02\n",
       "3  Invoice Number               PLC0920\n",
       "4    Total Amount           $354,967.00"
      ]
     },
     "execution_count": 51,
     "metadata": {},
     "output_type": "execute_result"
    }
   ],
   "source": [
    "para_dict=documentParser.get_para_dict(response_json)\n",
    "documentParser.get_para_df(para_dict)"
   ]
  },
  {
   "cell_type": "code",
   "execution_count": 52,
   "id": "23d56432-213f-4474-9379-5f7beaad2ee2",
   "metadata": {},
   "outputs": [
    {
     "data": {
      "text/plain": [
       "['Quantity',\n",
       " 'Items',\n",
       " 'Units',\n",
       " 'Descri',\n",
       " 'Discount %',\n",
       " 'Taxable',\n",
       " 'Unit Price',\n",
       " 'Total']"
      ]
     },
     "execution_count": 52,
     "metadata": {},
     "output_type": "execute_result"
    }
   ],
   "source": [
    "table_list=documentParser.get_table_dict(response_json)\n",
    "\n",
    "table_cols=[x[0] for x in table_list]\n",
    "\n",
    "documentParser.get_table_col_names(doc_json)"
   ]
  },
  {
   "cell_type": "code",
   "execution_count": 65,
   "id": "8edf8310-cfba-4bf7-84a2-f46a76ff86c5",
   "metadata": {},
   "outputs": [
    {
     "data": {
      "text/html": [
       "<div>\n",
       "<style scoped>\n",
       "    .dataframe tbody tr th:only-of-type {\n",
       "        vertical-align: middle;\n",
       "    }\n",
       "\n",
       "    .dataframe tbody tr th {\n",
       "        vertical-align: top;\n",
       "    }\n",
       "\n",
       "    .dataframe thead th {\n",
       "        text-align: right;\n",
       "    }\n",
       "</style>\n",
       "<table border=\"1\" class=\"dataframe\">\n",
       "  <thead>\n",
       "    <tr style=\"text-align: right;\">\n",
       "      <th></th>\n",
       "      <th>Item Description</th>\n",
       "      <th>Quantity</th>\n",
       "      <th>Unit Price</th>\n",
       "      <th>Total Amount</th>\n",
       "      <th>Tax Amount</th>\n",
       "    </tr>\n",
       "  </thead>\n",
       "  <tbody>\n",
       "    <tr>\n",
       "      <th>0</th>\n",
       "      <td>Massage tables</td>\n",
       "      <td>14</td>\n",
       "      <td>$2,300</td>\n",
       "      <td>$32,200</td>\n",
       "      <td>N/A</td>\n",
       "    </tr>\n",
       "    <tr>\n",
       "      <th>1</th>\n",
       "      <td>Towel heaters</td>\n",
       "      <td>14</td>\n",
       "      <td>$768</td>\n",
       "      <td>$10,752</td>\n",
       "      <td>N/A</td>\n",
       "    </tr>\n",
       "    <tr>\n",
       "      <th>2</th>\n",
       "      <td>Entry-way chairs</td>\n",
       "      <td>7</td>\n",
       "      <td>$1,136</td>\n",
       "      <td>$7,952</td>\n",
       "      <td>N/A</td>\n",
       "    </tr>\n",
       "    <tr>\n",
       "      <th>3</th>\n",
       "      <td>Wax heaters</td>\n",
       "      <td>14</td>\n",
       "      <td>$987</td>\n",
       "      <td>$13,818</td>\n",
       "      <td>N/A</td>\n",
       "    </tr>\n",
       "    <tr>\n",
       "      <th>4</th>\n",
       "      <td>Spa loungers</td>\n",
       "      <td>16</td>\n",
       "      <td>$979</td>\n",
       "      <td>$15,616</td>\n",
       "      <td>N/A</td>\n",
       "    </tr>\n",
       "    <tr>\n",
       "      <th>5</th>\n",
       "      <td>Hot tub</td>\n",
       "      <td>4</td>\n",
       "      <td>$50,613</td>\n",
       "      <td>$202,453</td>\n",
       "      <td>N/A</td>\n",
       "    </tr>\n",
       "    <tr>\n",
       "      <th>6</th>\n",
       "      <td>Pedicure chair</td>\n",
       "      <td>12</td>\n",
       "      <td>$3,456</td>\n",
       "      <td>$41,472</td>\n",
       "      <td>N/A</td>\n",
       "    </tr>\n",
       "    <tr>\n",
       "      <th>7</th>\n",
       "      <td>Manicure and Pedicure dryer</td>\n",
       "      <td>4</td>\n",
       "      <td>$1,456</td>\n",
       "      <td>$5,824</td>\n",
       "      <td>N/A</td>\n",
       "    </tr>\n",
       "    <tr>\n",
       "      <th>8</th>\n",
       "      <td>Manicure tables</td>\n",
       "      <td>10</td>\n",
       "      <td>$2,488</td>\n",
       "      <td>$24,880</td>\n",
       "      <td>N/A ;</td>\n",
       "    </tr>\n",
       "  </tbody>\n",
       "</table>\n",
       "</div>"
      ],
      "text/plain": [
       "              Item Description Quantity Unit Price Total Amount Tax Amount\n",
       "0               Massage tables       14     $2,300      $32,200        N/A\n",
       "1                Towel heaters       14       $768      $10,752        N/A\n",
       "2             Entry-way chairs        7     $1,136       $7,952        N/A\n",
       "3                  Wax heaters       14       $987      $13,818        N/A\n",
       "4                 Spa loungers       16       $979      $15,616        N/A\n",
       "5                      Hot tub        4    $50,613     $202,453        N/A\n",
       "6               Pedicure chair       12     $3,456      $41,472        N/A\n",
       "7  Manicure and Pedicure dryer        4     $1,456       $5,824        N/A\n",
       "8              Manicure tables       10     $2,488      $24,880      N/A ;"
      ]
     },
     "execution_count": 65,
     "metadata": {},
     "output_type": "execute_result"
    }
   ],
   "source": [
    "data_elements_order={x.strip():i for i,x in enumerate(data_elements.split(\",\"))}\n",
    "table_df=documentParser.get_table_dataframe(doc_json, table_cols_to_data_elements_dict, data_elements_order)\n",
    "table_df"
   ]
  },
  {
   "cell_type": "code",
   "execution_count": null,
   "id": "399906af-3be3-4b7c-b47e-47f5d2cd895c",
   "metadata": {},
   "outputs": [],
   "source": []
  }
 ],
 "metadata": {
  "kernelspec": {
   "display_name": "Python 3 (ipykernel)",
   "language": "python",
   "name": "python3"
  },
  "language_info": {
   "codemirror_mode": {
    "name": "ipython",
    "version": 3
   },
   "file_extension": ".py",
   "mimetype": "text/x-python",
   "name": "python",
   "nbconvert_exporter": "python",
   "pygments_lexer": "ipython3",
   "version": "3.11.7"
  }
 },
 "nbformat": 4,
 "nbformat_minor": 5
}
